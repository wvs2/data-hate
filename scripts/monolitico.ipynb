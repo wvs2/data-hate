{
  "nbformat": 4,
  "nbformat_minor": 0,
  "metadata": {
    "colab": {
      "name": "monolitico.ipynb",
      "provenance": [],
      "collapsed_sections": []
    },
    "kernelspec": {
      "name": "python3",
      "display_name": "Python 3"
    },
    "language_info": {
      "name": "python"
    }
  },
  "cells": [
    {
      "cell_type": "code",
      "metadata": {
        "id": "IKQZgBLTZM8K"
      },
      "source": [
        "import pandas as pd\n",
        "import numpy as np\n",
        "from sklearn.metrics import accuracy_score, f1_score\n",
        "from sklearn.neural_network import MLPClassifier\n",
        "from sklearn.linear_model import LogisticRegression"
      ],
      "execution_count": 1,
      "outputs": []
    },
    {
      "cell_type": "code",
      "metadata": {
        "colab": {
          "base_uri": "https://localhost:8080/"
        },
        "id": "40uA1nREhabz",
        "outputId": "9d686705-c65c-48aa-ae8d-50c0774de2e9"
      },
      "source": [
        "from google.colab import drive\n",
        "drive.mount('/content/drive')"
      ],
      "execution_count": 2,
      "outputs": [
        {
          "output_type": "stream",
          "text": [
            "Mounted at /content/drive\n"
          ],
          "name": "stdout"
        }
      ]
    },
    {
      "cell_type": "code",
      "metadata": {
        "id": "MWxE1L0XhSAf"
      },
      "source": [
        "def load_data(dataset_name, fold=None):\n",
        "  if dataset_name == \"hateval\":\n",
        "    uri_pred   = '/content/drive/MyDrive/Dataset/Folds/hateval/pred_test_hateval.csv'\n",
        "    uri_test   = '/content/drive/MyDrive/Dataset/Folds/hateval/test_hate.csv'\n",
        "    df_pred = pd.read_table(uri_pred, sep=',')\n",
        "    df_test = pd.read_table(uri_test, sep=',')\n",
        "    \n",
        "    return df_pred, df_test[\"HS\"]\n",
        "  else:\n",
        "    uri_pred   = '/content/drive/MyDrive/Dataset/Folds/{}/{}/pred_test.csv'.format(dataset_name, fold)  \n",
        "    uri_test   = '/content/drive/MyDrive/Dataset/Folds/{}/{}/test.csv'.format(dataset_name, fold)  \n",
        "    df_pred = pd.read_table(uri_pred, sep=',').drop(columns=['Unnamed: 0', 'Unnamed: 0.1'])\n",
        "    df_test = pd.read_table(uri_test, sep=',')\n",
        "    if dataset_name==\"zw\":\n",
        "      label = df_test[\"norm\"]\n",
        "    else:\n",
        "      label = df_test[\"class\"]\n",
        "    return df_pred, label"
      ],
      "execution_count": 3,
      "outputs": []
    },
    {
      "cell_type": "code",
      "metadata": {
        "id": "2fhgJofx9aQf"
      },
      "source": [
        "results = {}\n",
        "features = [\"CV\", \"TFIDF\", \"W2V\", \"GLOVE\", \"FAST\"]\n",
        "clfs = [\"SVM\", \"LR\", \"RF\", \"NB\", \"MLP\", \"EXTRA\", \"KNN\", \"CNN\"]\n",
        "\n",
        "for db in [\"td\", \"zw\", \"union\"]:\n",
        "  results.update({db: {}})\n",
        "  for fold in \"F1,F2,F3,F4,F5\".split(\",\"):\n",
        "    results[db].update({fold: {}})\n",
        "    pred, y_true = load_data(db, fold)\n",
        "    # pred = pred.drop(\"class\")\n",
        "    for feature in features:\n",
        "      results[db][fold].update({feature: {}})\n",
        "      for clf in clfs:\n",
        "        # if clf == \"CNN\" and feature == \"TFIDF\":\n",
        "          # feature = \"TF\"\n",
        "        col = \"{}-{}\".format(clf, feature)\n",
        "        f1 = f1_score(y_true, pred[col], average=\"macro\")\n",
        "        results[db][fold][feature].update({clf: \"%.3f\" % f1})"
      ],
      "execution_count": 4,
      "outputs": []
    },
    {
      "cell_type": "code",
      "metadata": {
        "id": "TRBbB1D1mEyE"
      },
      "source": [
        "for db, fold in results.items():\n",
        "  for fold, data in fold.items():\n",
        "    df = pd.DataFrame(data=data)\n",
        "    df.to_excel(\"{}-{}-monolitico.xlsx\".format(db, fold))"
      ],
      "execution_count": 5,
      "outputs": []
    },
    {
      "cell_type": "code",
      "metadata": {
        "id": "MrgHNhAuvZr0"
      },
      "source": [
        "results = {}\n",
        "features = [\"CV\", \"TFIDF\", \"W2V\", \"GLOVE\", \"FAST\"]\n",
        "clfs = [\"SVM\", \"LR\", \"RF\", \"NB\", \"MLP\", \"EXTRA\", \"KNN\", \"CNN\"]\n",
        "\n",
        "pred, y_true = load_data(\"hateval\")\n",
        "for feature in features:\n",
        "  results.update({feature: {}})\n",
        "  for clf in clfs:\n",
        "    col = \"{}-{}\".format(clf, feature)\n",
        "    f1 = f1_score(y_true, pred[col], average=\"macro\")\n",
        "    results[feature].update({clf: \"%.3f\" % f1})"
      ],
      "execution_count": 6,
      "outputs": []
    },
    {
      "cell_type": "code",
      "metadata": {
        "id": "EZXhrc-YwCcd"
      },
      "source": [
        "df = pd.DataFrame(data=results)\n",
        "df.to_excel(\"hateval-monolitico.xlsx\")"
      ],
      "execution_count": 7,
      "outputs": []
    }
  ]
}