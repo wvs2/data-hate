{
  "nbformat": 4,
  "nbformat_minor": 0,
  "metadata": {
    "colab": {
      "name": "RESULT-HATEVAL-STACKED.ipynb",
      "provenance": [],
      "collapsed_sections": []
    },
    "kernelspec": {
      "name": "python3",
      "display_name": "Python 3"
    },
    "language_info": {
      "name": "python"
    }
  },
  "cells": [
    {
      "cell_type": "code",
      "metadata": {
        "id": "H_WblbsWINjI"
      },
      "source": [
        "import pandas as pd\n",
        "import numpy as np\n",
        "from sklearn.metrics import accuracy_score, f1_score\n",
        "from sklearn.neural_network import MLPClassifier\n",
        "from sklearn.ensemble import RandomForestClassifier\n"
      ],
      "execution_count": null,
      "outputs": []
    },
    {
      "cell_type": "code",
      "metadata": {
        "id": "Bbj1lEEeYFzI"
      },
      "source": [
        "df_val = pd.read_csv(\"https://raw.githubusercontent.com/wvs2/data-hate/master/HateVal/prob_val_hateval.csv\").dropna()\n",
        "df_test = pd.read_csv(\"https://raw.githubusercontent.com/wvs2/data-hate/master/HateVal/prob_test_hateval.csv\").dropna()\n",
        "\n",
        "test_original = pd.read_csv(\"hateval2019_en_test.csv\")"
      ],
      "execution_count": null,
      "outputs": []
    },
    {
      "cell_type": "code",
      "metadata": {
        "id": "GDNlMgJWYdjj"
      },
      "source": [
        "test, class_test = df_test.drop(columns=[\"Unnamed: 0\", \"HS\"]), df_test[\"HS\"]\n",
        "val, class_val = df_val.drop(columns=[\"Unnamed: 0\", \"HS\"]), df_val[\"HS\"]"
      ],
      "execution_count": null,
      "outputs": []
    },
    {
      "cell_type": "code",
      "metadata": {
        "id": "ZXJFbLEvIi9B"
      },
      "source": [
        "machines = [\"SVM\", \"LR\", \"RF\", \"NB\", \"EXTRA\", \"KNN\", \"MLP\", \"CNN\"]\n",
        "features = [\"CV\", \"TFIDF\", \"W2V\", \"GLOVE\", \"FAST\"]\n",
        "labels = [\"0\", \"1\"]\n",
        "clfs = {}\n",
        "\n",
        "for machine in machines:\n",
        "  clfs[machine] = []\n",
        "  for feature in features:\n",
        "    if machine == \"CNN\" and feature == \"TFIDF\":\n",
        "      feature = \"TF\"\n",
        "    for label in labels:\n",
        "      clfs[machine].append(\"{}-{}-{}\".format(machine, feature, label))\n",
        "\n",
        "\n",
        "clfs_by_features = {}\n",
        "for feature in features:\n",
        "  clfs_by_features[feature] = []\n",
        "  for machine in machines:\n",
        "    for label in labels:\n",
        "      if machine == \"CNN\" and feature == \"TFIDF\":\n",
        "        clfs_by_features[feature].append(\"CNN-TF-{}\".format(label))\n",
        "      else:\n",
        "        clfs_by_features[feature].append(\"{}-{}-{}\".format(machine, feature, label))"
      ],
      "execution_count": null,
      "outputs": []
    },
    {
      "cell_type": "code",
      "metadata": {
        "colab": {
          "base_uri": "https://localhost:8080/"
        },
        "id": "Ss1AGE9nPFdN",
        "outputId": "a8b821a3-cdec-49aa-b3ed-8d0f6c748e70"
      },
      "source": [
        "for machine, clf in clfs.items():\n",
        "  cols = clfs[machine]\n",
        "  # Instancia de MLP\n",
        "  val_vision = val[cols]    \n",
        "  test_vision = test[cols]\n",
        "\n",
        "  mlp = MLPClassifier(random_state=42, batch_size=20, verbose=100, activation='logistic', solver='lbfgs', max_iter=200)\n",
        "  mlp.fit(val_vision, class_val)\n",
        "  y_pred = mlp.predict(test_vision)\n",
        "  print(machine)\n",
        "  print(\"Accuracy: \",accuracy_score(class_test, y_pred))\n",
        "  print(\"F1: \", f1_score(class_test, y_pred, average=\"macro\"))\n",
        "  print(\"\")\n"
      ],
      "execution_count": null,
      "outputs": [
        {
          "output_type": "stream",
          "text": [
            "SVM\n",
            "Accuracy:  0.5136666666666667\n",
            "F1:  0.4850679711454538\n",
            "\n"
          ],
          "name": "stdout"
        },
        {
          "output_type": "stream",
          "text": [
            "/usr/local/lib/python3.7/dist-packages/sklearn/neural_network/_multilayer_perceptron.py:470: ConvergenceWarning: lbfgs failed to converge (status=1):\n",
            "STOP: TOTAL NO. of ITERATIONS REACHED LIMIT.\n",
            "\n",
            "Increase the number of iterations (max_iter) or scale the data as shown in:\n",
            "    https://scikit-learn.org/stable/modules/preprocessing.html\n",
            "  self.n_iter_ = _check_optimize_result(\"lbfgs\", opt_res, self.max_iter)\n"
          ],
          "name": "stderr"
        },
        {
          "output_type": "stream",
          "text": [
            "LR\n",
            "Accuracy:  0.515\n",
            "F1:  0.47993359830309423\n",
            "\n",
            "RF\n",
            "Accuracy:  0.44966666666666666\n",
            "F1:  0.37233809193060974\n",
            "\n"
          ],
          "name": "stdout"
        },
        {
          "output_type": "stream",
          "text": [
            "/usr/local/lib/python3.7/dist-packages/sklearn/neural_network/_multilayer_perceptron.py:470: ConvergenceWarning: lbfgs failed to converge (status=1):\n",
            "STOP: TOTAL NO. of ITERATIONS REACHED LIMIT.\n",
            "\n",
            "Increase the number of iterations (max_iter) or scale the data as shown in:\n",
            "    https://scikit-learn.org/stable/modules/preprocessing.html\n",
            "  self.n_iter_ = _check_optimize_result(\"lbfgs\", opt_res, self.max_iter)\n"
          ],
          "name": "stderr"
        },
        {
          "output_type": "stream",
          "text": [
            "NB\n",
            "Accuracy:  0.5213333333333333\n",
            "F1:  0.4976032362375007\n",
            "\n",
            "EXTRA\n",
            "Accuracy:  0.443\n",
            "F1:  0.354097307501864\n",
            "\n"
          ],
          "name": "stdout"
        },
        {
          "output_type": "stream",
          "text": [
            "/usr/local/lib/python3.7/dist-packages/sklearn/neural_network/_multilayer_perceptron.py:470: ConvergenceWarning: lbfgs failed to converge (status=1):\n",
            "STOP: TOTAL NO. of ITERATIONS REACHED LIMIT.\n",
            "\n",
            "Increase the number of iterations (max_iter) or scale the data as shown in:\n",
            "    https://scikit-learn.org/stable/modules/preprocessing.html\n",
            "  self.n_iter_ = _check_optimize_result(\"lbfgs\", opt_res, self.max_iter)\n"
          ],
          "name": "stderr"
        },
        {
          "output_type": "stream",
          "text": [
            "KNN\n",
            "Accuracy:  0.5313333333333333\n",
            "F1:  0.5287058158909046\n",
            "\n",
            "MLP\n",
            "Accuracy:  0.5083333333333333\n",
            "F1:  0.48195148232705287\n",
            "\n",
            "CNN\n",
            "Accuracy:  0.5193333333333333\n",
            "F1:  0.493621930595068\n",
            "\n"
          ],
          "name": "stdout"
        }
      ]
    },
    {
      "cell_type": "code",
      "metadata": {
        "colab": {
          "base_uri": "https://localhost:8080/"
        },
        "id": "RYX8Maiy9wbu",
        "outputId": "b6280df6-d9a4-4d1c-dfee-67ca617dd246"
      },
      "source": [
        "for feature, clfs in clfs_by_features.items():\n",
        "  # for clf in clfs:\n",
        "  cols = clfs\n",
        "  # # Instancia de MLP\n",
        "  val_vision = val[cols]    \n",
        "  test_vision = test[cols]\n",
        "\n",
        "  mlp = MLPClassifier(random_state=42, batch_size=20, verbose=100, activation='logistic', solver='lbfgs')\n",
        "  mlp.fit(val_vision, class_val)\n",
        "  y_pred = mlp.predict(test_vision)\n",
        "  print(feature)\n",
        "  print(\"Accuracy: \",accuracy_score(class_test, y_pred))\n",
        "  print(\"F1: \", f1_score(class_test, y_pred, average=\"macro\"))\n",
        "  # print(\"\")\n"
      ],
      "execution_count": null,
      "outputs": [
        {
          "output_type": "stream",
          "text": [
            "CV\n",
            "Accuracy:  0.44766666666666666\n",
            "F1:  0.36419468305085767\n",
            "TFIDF\n",
            "Accuracy:  0.45166666666666666\n",
            "F1:  0.3708867819297267\n",
            "W2V\n",
            "Accuracy:  0.6086666666666667\n",
            "F1:  0.6065119259732965\n",
            "GLOVE\n",
            "Accuracy:  0.5976666666666667\n",
            "F1:  0.5976430170173335\n",
            "FAST\n",
            "Accuracy:  0.5666666666666667\n",
            "F1:  0.5610953080413192\n"
          ],
          "name": "stdout"
        }
      ]
    },
    {
      "cell_type": "code",
      "metadata": {
        "colab": {
          "base_uri": "https://localhost:8080/"
        },
        "id": "rninkiCb-AXa",
        "outputId": "63d4e9c8-cb7d-4026-99b4-26cb8c556ff9"
      },
      "source": [
        "val_vision = val\n",
        "test_vision = test\n",
        "\n",
        "mlp = MLPClassifier(random_state=42, batch_size=20, verbose=100, activation='logistic', solver='lbfgs')\n",
        "mlp.fit(val_vision, class_val)\n",
        "y_pred = mlp.predict(test_vision)\n",
        "# data_frame = pd.DataFrame(y_pred)\n",
        "print(\" TODOS \")\n",
        "print(\"Accuracy: \",accuracy_score(class_test, y_pred))\n",
        "print(\"F1: \", f1_score(class_test, y_pred, average=\"macro\"))\n",
        "# print(\"\")"
      ],
      "execution_count": null,
      "outputs": [
        {
          "output_type": "stream",
          "text": [
            " TODOS \n",
            "Accuracy:  0.4736666666666667\n",
            "F1:  0.40919832190871475\n"
          ],
          "name": "stdout"
        }
      ]
    },
    {
      "cell_type": "code",
      "metadata": {
        "id": "guEA0v6rsVHH"
      },
      "source": [
        "index = 0\n",
        "export_pred = {\n",
        "    \"i\": [],\n",
        "    \"pred\": []\n",
        "}\n",
        "for y in y_pred:\n",
        "  export_pred[\"i\"].append(test_original[\"id\"][index])\n",
        "  export_pred[\"pred\"].append(y)\n",
        "  index += 1\n",
        "data_frame = pd.DataFrame(export_pred)\n",
        "data_frame.to_csv(\"en_a.tsv\", sep=\"\\t\")"
      ],
      "execution_count": null,
      "outputs": []
    },
    {
      "cell_type": "code",
      "metadata": {
        "id": "7rLIsB3b-JIW"
      },
      "source": [
        "clfs = [\n",
        "    \"KNN-CV\", \"CNN-FAST\", \"RF-W2V\", \"LR-CV\",\"RF-TFIDF\", \"NB-W2V\", \"KNN-FAST\", \"RF-GLOVE\", \"LR-GLOVE\", \n",
        "    \"SVM-CV\", \"SVM-GLOVE\"\n",
        "]"
      ],
      "execution_count": null,
      "outputs": []
    },
    {
      "cell_type": "code",
      "metadata": {
        "colab": {
          "base_uri": "https://localhost:8080/"
        },
        "id": "5UdeeLUx-O4a",
        "outputId": "70cbab6e-65f1-4bb7-bc49-8486bd4c70a6"
      },
      "source": [
        "cols = []\n",
        "for clf in clfs:\n",
        "  for i in range(0,2):\n",
        "    cols.append(\"{}-{}\".format(clf, i))\n",
        "\n",
        "val_vision = val[cols]\n",
        "test_vision = test[cols]\n",
        "mlp = MLPClassifier(random_state=42, activation='logistic')\n",
        "mlp.fit(val_vision, class_val)\n",
        "y_pred = mlp.predict(test_vision)\n",
        "print(\"=============== COMBINE ===============\")\n",
        "print(\"Accuracy: \",accuracy_score(class_test, y_pred))\n",
        "print(\"F1: \", f1_score(class_test, y_pred, average=\"macro\"))"
      ],
      "execution_count": null,
      "outputs": [
        {
          "output_type": "stream",
          "text": [
            "=============== COMBINE ===============\n",
            "Accuracy:  0.485\n",
            "F1:  0.44084886742038065\n"
          ],
          "name": "stdout"
        }
      ]
    },
    {
      "cell_type": "code",
      "metadata": {
        "id": "LL_bHkRG8tf1"
      },
      "source": [
        "index = 0\n",
        "export_pred = {\n",
        "    \"i\": [],\n",
        "    \"pred\": []\n",
        "}\n",
        "for y in y_pred:\n",
        "  export_pred[\"i\"].append(test_original[\"id\"][index])\n",
        "  export_pred[\"pred\"].append(y)\n",
        "  index += 1\n",
        "data_frame = pd.DataFrame(export_pred)\n",
        "data_frame.to_csv(\"en_proposed.tsv\", sep=\"\\t\")"
      ],
      "execution_count": null,
      "outputs": []
    }
  ]
}