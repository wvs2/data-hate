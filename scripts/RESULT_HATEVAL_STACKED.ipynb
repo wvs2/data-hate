{
  "nbformat": 4,
  "nbformat_minor": 0,
  "metadata": {
    "colab": {
      "name": "RESULT_HATEVAL_STACKED.ipynb",
      "provenance": [],
      "collapsed_sections": []
    },
    "kernelspec": {
      "display_name": "Python 3",
      "name": "python3"
    },
    "language_info": {
      "name": "python"
    }
  },
  "cells": [
    {
      "cell_type": "code",
      "metadata": {
        "colab": {
          "base_uri": "https://localhost:8080/"
        },
        "id": "hFBQuE1qM15n",
        "outputId": "bcc6d1f5-fccc-42d5-96b2-694306000ff3"
      },
      "source": [
        "from google.colab import drive\n",
        "drive.mount('/content/drive')"
      ],
      "execution_count": 1,
      "outputs": [
        {
          "output_type": "stream",
          "text": [
            "Mounted at /content/drive\n"
          ],
          "name": "stdout"
        }
      ]
    },
    {
      "cell_type": "code",
      "metadata": {
        "id": "plE4kBGvLTaQ"
      },
      "source": [
        "import pandas as pd\n",
        "import numpy as np\n",
        "from sklearn.metrics import accuracy_score, f1_score\n",
        "from sklearn.neural_network import MLPClassifier\n",
        "from sklearn.ensemble import RandomForestClassifier\n",
        "from sklearn.linear_model import LogisticRegression"
      ],
      "execution_count": 2,
      "outputs": []
    },
    {
      "cell_type": "code",
      "metadata": {
        "id": "CkCExKpTLce5"
      },
      "source": [
        "path = \"/content/drive/MyDrive/Dataset/Folds/hateval/\"\n",
        "def load_data():\n",
        "  uri_val = \"{}/prob_train_hateval.csv\".format(path)\n",
        "  uri_test = \"{}/prob_test_hateval.csv\".format(path)\n",
        "  uri_test_pred = \"{}/test_hate.csv\".format(path)\n",
        "  df_val   = pd.read_table(uri_val, sep=',')\n",
        "  df_test = pd.read_table(uri_test, sep=',')\n",
        "  df_test_pred = pd.read_table(uri_test_pred, sep=',')\n",
        "  val, class_val = df_val.drop(columns=['Unnamed: 0', 'HS']), df_val['HS']\n",
        "  test, class_test = df_test.drop(columns=['Unnamed: 0', 'HS']), df_test_pred[\"HS\"]  \n",
        "  return val, class_val, test, class_test\n"
      ],
      "execution_count": 39,
      "outputs": []
    },
    {
      "cell_type": "code",
      "metadata": {
        "id": "qPO1SCo2LxDr"
      },
      "source": [
        "machines = [\"SVM\", \"LR\", \"RF\", \"NB\", \"EXTRA\", \"KNN\", \"MLP\", \"CNN\"]\n",
        "features = [\"CV\", \"TFIDF\", \"W2V\", \"GLOVE\", \"FAST\"]\n",
        "labels = [\"0\", \"1\"]\n",
        "clfs = {}\n",
        "\n",
        "for machine in machines:\n",
        "  clfs[machine] = []\n",
        "  for feature in features:\n",
        "    if machine == \"CNN\" and feature == \"TFIDF\":\n",
        "      feature = \"TF\"\n",
        "    for label in labels:\n",
        "      clfs[machine].append(\"{}-{}-{}\".format(machine, feature, label))\n",
        "\n",
        "\n",
        "clfs_by_features = {}\n",
        "for feature in features:\n",
        "  clfs_by_features[feature] = []\n",
        "  for machine in machines:\n",
        "    for label in labels:\n",
        "      if machine == \"CNN\" and feature == \"TFIDF\":\n",
        "        clfs_by_features[feature].append(\"CNN-TF-{}\".format(label))\n",
        "      else:\n",
        "        clfs_by_features[feature].append(\"{}-{}-{}\".format(machine, feature, label))"
      ],
      "execution_count": 40,
      "outputs": []
    },
    {
      "cell_type": "code",
      "metadata": {
        "colab": {
          "base_uri": "https://localhost:8080/"
        },
        "id": "WsNA8PKMLyOi",
        "outputId": "7356072b-290a-4f10-8a8a-9f002f9019cd"
      },
      "source": [
        "export = {}\n",
        "pred = {}\n",
        "val, class_val, test, class_test = load_data()  \n",
        "for machine, clf in clfs.items():\n",
        "  # print(machine, clf)\n",
        "  cols = clfs[machine]\n",
        "  val_vision = val[cols]    \n",
        "  test_vision = test[cols]\n",
        "  \n",
        "  # Instancia de MLP\n",
        "  lr = LogisticRegression(random_state=42,  max_iter=500)\n",
        "\n",
        "  lr.fit(val_vision, class_val)\n",
        "  y_pred = lr.predict(test_vision)\n",
        "  f1 = f1_score(class_test, y_pred, average=\"macro\")\n",
        "  pred.update({machine: f1})\n",
        "  export.update({machine: \"%.3f\" % f1})\n",
        "  print(\"{}: \".format(machine), f1)"
      ],
      "execution_count": 41,
      "outputs": [
        {
          "output_type": "stream",
          "text": [
            "SVM:  0.49764979799071607\n",
            "LR:  0.4821706446708184\n",
            "RF:  0.3881777108433735\n",
            "NB:  0.5014041800930898\n",
            "EXTRA:  0.3918906744558047\n",
            "KNN:  0.547193282399344\n",
            "MLP:  0.48273136151514284\n",
            "CNN:  0.479124967845027\n"
          ],
          "name": "stdout"
        }
      ]
    },
    {
      "cell_type": "code",
      "metadata": {
        "id": "n1lUR5wxvZBI"
      },
      "source": [
        "df = pd.DataFrame(data=export, index=[0])\n",
        "df.to_excel(\"machine.xlsx\")"
      ],
      "execution_count": 42,
      "outputs": []
    },
    {
      "cell_type": "code",
      "metadata": {
        "colab": {
          "base_uri": "https://localhost:8080/"
        },
        "id": "w_Epai-UzJRc",
        "outputId": "46328b6b-fdb0-4a8c-a69b-6f40778626d0"
      },
      "source": [
        "pred"
      ],
      "execution_count": 43,
      "outputs": [
        {
          "output_type": "execute_result",
          "data": {
            "text/plain": [
              "{'CNN': 0.479124967845027,\n",
              " 'EXTRA': 0.3918906744558047,\n",
              " 'KNN': 0.547193282399344,\n",
              " 'LR': 0.4821706446708184,\n",
              " 'MLP': 0.48273136151514284,\n",
              " 'NB': 0.5014041800930898,\n",
              " 'RF': 0.3881777108433735,\n",
              " 'SVM': 0.49764979799071607}"
            ]
          },
          "metadata": {
            "tags": []
          },
          "execution_count": 43
        }
      ]
    },
    {
      "cell_type": "code",
      "metadata": {
        "colab": {
          "base_uri": "https://localhost:8080/"
        },
        "id": "gQzJ9XAFxK1L",
        "outputId": "94e83606-08c3-4642-94a7-649f3918f9bf"
      },
      "source": [
        "scores = {}\n",
        "for machine in machines:\n",
        "  scores.update({machine: []})\n",
        "\n",
        "# pred.items()\n",
        "# for fold, items in pred.items():\n",
        "for clf, score in pred.items():\n",
        "  scores[clf].append(score)\n",
        "\n",
        "print(scores)\n",
        "export = {}\n",
        "for clf, score in scores.items():\n",
        "  print(\"========= \", clf, \"===========\")\n",
        "  print(\"Mean: \", np.mean(score))\n",
        "  print(\"STD: \", np.std(score))\n",
        "  export.update({clf: {\n",
        "      \"Mean\": \"%.3f\" % np.mean(score),\n",
        "      \"STD\": \"%.3f\" % np.std(score)\n",
        "  }})\n"
      ],
      "execution_count": 44,
      "outputs": [
        {
          "output_type": "stream",
          "text": [
            "{'SVM': [0.49764979799071607], 'LR': [0.4821706446708184], 'RF': [0.3881777108433735], 'NB': [0.5014041800930898], 'EXTRA': [0.3918906744558047], 'KNN': [0.547193282399344], 'MLP': [0.48273136151514284], 'CNN': [0.479124967845027]}\n",
            "=========  SVM ===========\n",
            "Mean:  0.49764979799071607\n",
            "STD:  0.0\n",
            "=========  LR ===========\n",
            "Mean:  0.4821706446708184\n",
            "STD:  0.0\n",
            "=========  RF ===========\n",
            "Mean:  0.3881777108433735\n",
            "STD:  0.0\n",
            "=========  NB ===========\n",
            "Mean:  0.5014041800930898\n",
            "STD:  0.0\n",
            "=========  EXTRA ===========\n",
            "Mean:  0.3918906744558047\n",
            "STD:  0.0\n",
            "=========  KNN ===========\n",
            "Mean:  0.547193282399344\n",
            "STD:  0.0\n",
            "=========  MLP ===========\n",
            "Mean:  0.48273136151514284\n",
            "STD:  0.0\n",
            "=========  CNN ===========\n",
            "Mean:  0.479124967845027\n",
            "STD:  0.0\n"
          ],
          "name": "stdout"
        }
      ]
    },
    {
      "cell_type": "code",
      "metadata": {
        "id": "2msD_DGJyY7p"
      },
      "source": [
        "df = pd.DataFrame(data=export)\n",
        "df.to_excel(\"mean-std-machine.xlsx\")"
      ],
      "execution_count": 45,
      "outputs": []
    },
    {
      "cell_type": "markdown",
      "metadata": {
        "id": "dEH23q2xL2tL"
      },
      "source": [
        "# Grupo B"
      ]
    },
    {
      "cell_type": "code",
      "metadata": {
        "colab": {
          "base_uri": "https://localhost:8080/"
        },
        "id": "xvoA9V0nL0SD",
        "outputId": "6ed8cd77-b0bb-4a02-ab08-9a5df743c347"
      },
      "source": [
        "pred={}\n",
        "export = {}\n",
        "val, class_val, test, class_test = load_data()  \n",
        "for feature, clfs in clfs_by_features.items():\n",
        "  cols = clfs\n",
        "  val_vision = val[cols]    \n",
        "  test_vision = test[cols]\n",
        "\n",
        "  lr = LogisticRegression(random_state=42,  max_iter=500)\n",
        "  lr.fit(val_vision, class_val)\n",
        "  y_pred = lr.predict(test_vision)\n",
        "  f1 = f1_score(class_test, y_pred, average=\"macro\")\n",
        "  pred.update({feature: f1})\n",
        "  export.update({feature: \"%.3f\" % f1})\n",
        "  print(feature)\n",
        "  print(\"Accuracy: \",accuracy_score(class_test, y_pred))\n",
        "  print(\"F1: \", f1)\n",
        "  # print(\"\")\n"
      ],
      "execution_count": 46,
      "outputs": [
        {
          "output_type": "stream",
          "text": [
            "CV\n",
            "Accuracy:  0.44733333333333336\n",
            "F1:  0.364340498794624\n",
            "TFIDF\n",
            "Accuracy:  0.47333333333333333\n",
            "F1:  0.4101305229329804\n",
            "W2V\n",
            "Accuracy:  0.5493333333333333\n",
            "F1:  0.5348143730430893\n",
            "GLOVE\n",
            "Accuracy:  0.5806666666666667\n",
            "F1:  0.579949032925585\n",
            "FAST\n",
            "Accuracy:  0.5516666666666666\n",
            "F1:  0.5377243826844729\n"
          ],
          "name": "stdout"
        }
      ]
    },
    {
      "cell_type": "code",
      "metadata": {
        "id": "NmliB2X3zdMJ"
      },
      "source": [
        "df = pd.DataFrame(data=export, index=[0])\n",
        "df.to_excel(\"feature.xlsx\")"
      ],
      "execution_count": 47,
      "outputs": []
    },
    {
      "cell_type": "code",
      "metadata": {
        "colab": {
          "base_uri": "https://localhost:8080/"
        },
        "id": "fsc5UVVDyyHw",
        "outputId": "6d4abaa1-fd7b-4b46-bb37-14035964eb48"
      },
      "source": [
        "# print(pred)\n",
        "scores = {}\n",
        "# print(features)\n",
        "for feature in features:\n",
        "  scores.update({feature: []})\n",
        "\n",
        "\n",
        "for feature, score in pred.items():\n",
        "  scores[feature].append(score)\n",
        "\n",
        "export = {}\n",
        "for feature, score in scores.items():\n",
        "  print(\"========= \", feature, \"===========\")\n",
        "  print(\"Mean: \", np.mean(score))\n",
        "  print(\"STD: \", np.std(score))\n",
        "  export.update({feature: {\n",
        "      \"Mean\": \"%.3f\" % np.mean(score),\n",
        "      \"STD\": \"%.3f\" % np.std(score)\n",
        "  }})"
      ],
      "execution_count": 48,
      "outputs": [
        {
          "output_type": "stream",
          "text": [
            "=========  CV ===========\n",
            "Mean:  0.364340498794624\n",
            "STD:  0.0\n",
            "=========  TFIDF ===========\n",
            "Mean:  0.4101305229329804\n",
            "STD:  0.0\n",
            "=========  W2V ===========\n",
            "Mean:  0.5348143730430893\n",
            "STD:  0.0\n",
            "=========  GLOVE ===========\n",
            "Mean:  0.579949032925585\n",
            "STD:  0.0\n",
            "=========  FAST ===========\n",
            "Mean:  0.5377243826844729\n",
            "STD:  0.0\n"
          ],
          "name": "stdout"
        }
      ]
    },
    {
      "cell_type": "code",
      "metadata": {
        "id": "i-E-pcINz8Py"
      },
      "source": [
        "df = pd.DataFrame(data=export)\n",
        "df.to_excel(\"mean-std-feature.xlsx\")"
      ],
      "execution_count": 49,
      "outputs": []
    },
    {
      "cell_type": "markdown",
      "metadata": {
        "id": "kJzyFkiwMBLW"
      },
      "source": [
        "# Grupo C"
      ]
    },
    {
      "cell_type": "code",
      "metadata": {
        "id": "DsKj_41N0--q"
      },
      "source": [
        "pred = []\n",
        "export = {}"
      ],
      "execution_count": 50,
      "outputs": []
    },
    {
      "cell_type": "code",
      "metadata": {
        "colab": {
          "base_uri": "https://localhost:8080/"
        },
        "id": "29JyIrK6L6vY",
        "outputId": "8e45b7c8-2d60-4de9-f8fe-af1670ba0e71"
      },
      "source": [
        "val, class_val, test, class_test = load_data()  \n",
        "val_vision = val\n",
        "test_vision = test\n",
        "\n",
        "lr = LogisticRegression(random_state=42,  max_iter=500)\n",
        "lr.fit(val_vision, class_val)\n",
        "y_pred = lr.predict(test_vision)\n",
        "f1 = f1_score(class_test, y_pred, average=\"macro\")\n",
        "pred.append(f1)\n",
        "export = \"%.3f\" % f1\n",
        "print(\" TODOS \")\n",
        "print(\"F1: \", f1)\n",
        "# print(\"\")"
      ],
      "execution_count": 51,
      "outputs": [
        {
          "output_type": "stream",
          "text": [
            " TODOS \n",
            "F1:  0.41030172708704327\n"
          ],
          "name": "stdout"
        }
      ]
    },
    {
      "cell_type": "code",
      "metadata": {
        "colab": {
          "base_uri": "https://localhost:8080/"
        },
        "id": "i_FmiZg41EF3",
        "outputId": "ce642ca1-9755-4d5b-b00c-e19d108a678f"
      },
      "source": [
        "# df = pd.DataFrame(data=export, index=[0])\n",
        "# df.to_excel(\"all.xlsx\")\n",
        "\n",
        "print(\"========= \", \"TODOS\", \"===========\")\n",
        "print(\"Mean: \", np.mean(pred))\n",
        "print(\"STD: \", np.std(pred))"
      ],
      "execution_count": 52,
      "outputs": [
        {
          "output_type": "stream",
          "text": [
            "=========  TODOS ===========\n",
            "Mean:  0.41030172708704327\n",
            "STD:  0.0\n"
          ],
          "name": "stdout"
        }
      ]
    },
    {
      "cell_type": "markdown",
      "metadata": {
        "id": "yDJYlRfSoaRE"
      },
      "source": [
        "# CLUSTERS"
      ]
    },
    {
      "cell_type": "code",
      "metadata": {
        "id": "m2NZsMnFbv9H"
      },
      "source": [
        "def load_clfs(fold):  \n",
        "  import random\n",
        "  clfs_fold = []\n",
        "  quantidade = random.randint(5, len(fold)-1)\n",
        "  sorteados = 0\n",
        "  indices = []\n",
        "  while sorteados < quantidade:\n",
        "    item = random.randint(0, len(fold)-1)\n",
        "    if not item in indices:\n",
        "      indices.append(item)\n",
        "      sorteados += 1\n",
        "\n",
        "  for i in indices:\n",
        "    # print(i)\n",
        "    # print(fold[i])\n",
        "    clfs_fold.append(random.choices(fold[i].split(\", \"))[0])\n",
        "  return quantidade, clfs_fold\n",
        "\n",
        "F = [\n",
        "  \"NB-W2V, NB-FAST, NB-GLOVE\",\n",
        "  \"EXTRA-W2V, RF-W2V, RF-FAST, CNN-GLOVE\",\n",
        "  \"NB-CV, NB-TFIDF\",\n",
        "  \"EXTRA-CV, RF-CV\",\n",
        "  \"LR-CV, LR-TFIDF\",\n",
        "  \"EXTRA-TFIDF, RF-TFIDF, KNN-CV\",\n",
        "  \"LR-FAST, SVM-FAST, EXTRA-FAST\",\n",
        "  \"CNN-W2V, CNN-CV, CNN-TF, CNN-FAST\",\n",
        "  \"LR-W2V, KNN-FAST, SVM-W2V, MLP-W2V, MLP-FAST, KNN-W2V\",\n",
        "  \"MLP-CV, SVM-CV, MLP-TFIDF, SVM-TFIDF\",\n",
        "  \"KNN-TFIDF, KNN-GLOVE, MLP-GLOVE, SVM-GLOVE, LR-GLOVE, EXTRA-GLOVE, RF-GLOVE\"\n",
        "]"
      ],
      "execution_count": 53,
      "outputs": []
    },
    {
      "cell_type": "markdown",
      "metadata": {
        "id": "oHjKYiQBMFl-"
      },
      "source": [
        "# Grupo D"
      ]
    },
    {
      "cell_type": "code",
      "metadata": {
        "id": "Da0MY2AkMHrV"
      },
      "source": [
        "results = {}\n",
        "\n",
        "cont = 1\n",
        "results.update({\"clfs\": [], \"f1\": 0})\n",
        "while cont < 300:\n",
        "  qt, clfs = load_clfs(F)\n",
        "  pred = []\n",
        "  \n",
        "  val, class_val, test, class_test = load_data()\n",
        "  cols = []\n",
        "  # columns \n",
        "  for clf in clfs:\n",
        "    for i in range(0,2):\n",
        "      cols.append(\"{}-{}\".format(clf, i))\n",
        "  \n",
        "  val_vision = val[cols]\n",
        "  test_vision = test[cols]\n",
        "  # # Treinamento\n",
        "  lr = LogisticRegression(random_state=42,  max_iter=500)\n",
        "  lr.fit(val_vision, class_val)\n",
        "  y_pred = lr.predict(test_vision)\n",
        "  f1 = f1_score(class_test, y_pred, average=\"macro\")\n",
        "  pred.append(f1)\n",
        "  # print(\"=============== {} ===============\".format(fold))\n",
        "  if f1 > results[\"f1\"]:\n",
        "    results.update({\"clfs\": clfs, \"f1\": f1})      \n",
        "  \n",
        "  cont += 1"
      ],
      "execution_count": 54,
      "outputs": []
    },
    {
      "cell_type": "code",
      "metadata": {
        "colab": {
          "base_uri": "https://localhost:8080/"
        },
        "id": "s4HjPTYTEvbm",
        "outputId": "d5c5e81f-7adb-4cf3-e775-22e012d24d2c"
      },
      "source": [
        "results"
      ],
      "execution_count": 55,
      "outputs": [
        {
          "output_type": "execute_result",
          "data": {
            "text/plain": [
              "{'clfs': ['RF-W2V', 'LR-TFIDF', 'KNN-GLOVE', 'NB-W2V', 'MLP-W2V'],\n",
              " 'f1': 0.5715235373149818}"
            ]
          },
          "metadata": {
            "tags": []
          },
          "execution_count": 55
        }
      ]
    },
    {
      "cell_type": "code",
      "metadata": {
        "id": "srfXe9wlhRhj"
      },
      "source": [
        "# lista = []\n",
        "\n",
        "# for fold, r in results.items():\n",
        "  # print(r)\n",
        "#   lista.append(r[\"f1\"])\n",
        "# print(\"========= \", \"Combinados\", \"===========\")\n",
        "# print(\"Mean: \", np.mean(lista))\n",
        "# print(\"STD: \", np.std(lista))"
      ],
      "execution_count": 56,
      "outputs": []
    }
  ]
}