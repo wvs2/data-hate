{
  "nbformat": 4,
  "nbformat_minor": 0,
  "metadata": {
    "colab": {
      "name": "RESULT_UNION_STACKED.ipynb",
      "provenance": [],
      "collapsed_sections": []
    },
    "kernelspec": {
      "display_name": "Python 3",
      "name": "python3"
    },
    "language_info": {
      "name": "python"
    }
  },
  "cells": [
    {
      "cell_type": "code",
      "metadata": {
        "colab": {
          "base_uri": "https://localhost:8080/"
        },
        "id": "hFBQuE1qM15n",
        "outputId": "a5e0c9a0-6a11-47f6-81fa-7080cf50e9b1"
      },
      "source": [
        "from google.colab import drive\n",
        "drive.mount('/content/drive')"
      ],
      "execution_count": 1,
      "outputs": [
        {
          "output_type": "stream",
          "text": [
            "Mounted at /content/drive\n"
          ],
          "name": "stdout"
        }
      ]
    },
    {
      "cell_type": "code",
      "metadata": {
        "id": "plE4kBGvLTaQ"
      },
      "source": [
        "import pandas as pd\n",
        "import numpy as np\n",
        "from sklearn.metrics import accuracy_score, f1_score\n",
        "from sklearn.neural_network import MLPClassifier\n",
        "from sklearn.ensemble import RandomForestClassifier\n",
        "from sklearn.linear_model import LogisticRegression"
      ],
      "execution_count": 2,
      "outputs": []
    },
    {
      "cell_type": "code",
      "metadata": {
        "id": "CkCExKpTLce5"
      },
      "source": [
        "path = \"/content/drive/MyDrive/Dataset/Folds\"\n",
        "def load_data(dataset, fold):\n",
        "  uri_val = \"{}/{}/{}/prob_train.csv\".format(path, dataset, fold)\n",
        "  uri_test = \"{}/{}/{}/prob_test.csv\".format(path, dataset, fold)\n",
        "  uri_test_pred = \"{}/{}/{}/pred_test.csv\".format(path, dataset, fold)\n",
        "  df_val   = pd.read_table(uri_val, sep=',')\n",
        "  df_test = pd.read_table(uri_test, sep=',')\n",
        "  df_test_pred = pd.read_table(uri_test_pred, sep=',')\n",
        "\n",
        "  val, class_val = df_val.drop(columns=['Unnamed: 0', 'Unnamed: 0.1', 'class']), df_val['class']\n",
        "  test, class_test = df_test.drop(columns=['Unnamed: 0', 'Unnamed: 0.1', 'class']), df_test_pred[\"class\"]  \n",
        "  return val, class_val, test, class_test\n"
      ],
      "execution_count": 3,
      "outputs": []
    },
    {
      "cell_type": "code",
      "metadata": {
        "id": "qPO1SCo2LxDr"
      },
      "source": [
        "machines = [\"SVM\", \"LR\", \"RF\", \"NB\", \"EXTRA\", \"KNN\", \"MLP\", \"CNN\"]\n",
        "features = [\"CV\", \"TFIDF\", \"W2V\", \"GLOVE\", \"FAST\"]\n",
        "labels = [\"0\", \"1\", \"2\"]\n",
        "clfs = {}\n",
        "\n",
        "for machine in machines:\n",
        "  clfs[machine] = []\n",
        "  for feature in features:\n",
        "    if machine == \"CNN\" and feature == \"TFIDF\":\n",
        "      feature = \"TF\"\n",
        "    for label in labels:\n",
        "      clfs[machine].append(\"{}-{}-{}\".format(machine, feature, label))\n",
        "\n",
        "\n",
        "clfs_by_features = {}\n",
        "for feature in features:\n",
        "  clfs_by_features[feature] = []\n",
        "  for machine in machines:\n",
        "    for label in labels:\n",
        "      if machine == \"CNN\" and feature == \"TFIDF\":\n",
        "        clfs_by_features[feature].append(\"CNN-TF-{}\".format(label))\n",
        "      else:\n",
        "        clfs_by_features[feature].append(\"{}-{}-{}\".format(machine, feature, label))"
      ],
      "execution_count": 4,
      "outputs": []
    },
    {
      "cell_type": "code",
      "metadata": {
        "colab": {
          "base_uri": "https://localhost:8080/"
        },
        "id": "WsNA8PKMLyOi",
        "outputId": "698b5758-d0af-428b-d42c-56cc0d4eb750"
      },
      "source": [
        "folds = [\"F1\", \"F2\", \"F3\", \"F4\", \"F5\"]\n",
        "pred = {\n",
        "    \"F1\": {},\n",
        "    \"F2\": {},\n",
        "    \"F3\": {},\n",
        "    \"F4\": {},\n",
        "    \"F5\": {},\n",
        "}\n",
        "export = {}\n",
        "for fold in folds:\n",
        "  val, class_val, test, class_test = load_data(\"union\", fold)  \n",
        "  export.update({fold: {}})\n",
        "  print(\"=============== {} ===============\".format(fold))\n",
        "  for machine, clf in clfs.items():\n",
        "    cols = clfs[machine]\n",
        "    val_vision = val[cols]    \n",
        "    test_vision = test[cols]\n",
        "    \n",
        "    # Instancia de MLP\n",
        "    lr = LogisticRegression(random_state=42,  max_iter=500)\n",
        "\n",
        "    lr.fit(val_vision, class_val)\n",
        "    y_pred = lr.predict(test_vision)\n",
        "    f1 = f1_score(class_test, y_pred, average=\"macro\")\n",
        "    pred[fold].update({machine: f1})\n",
        "    export[fold].update({machine: \"%.3f\" % f1})\n",
        "    print(\"{}: \".format(machine), f1)"
      ],
      "execution_count": 5,
      "outputs": [
        {
          "output_type": "stream",
          "text": [
            "=============== F1 ===============\n",
            "SVM:  0.8698544425214015\n",
            "LR:  0.8779089009448219\n",
            "RF:  0.8525287282904671\n",
            "NB:  0.8269251760988084\n",
            "EXTRA:  0.8346230750886522\n",
            "KNN:  0.7903656030556677\n",
            "MLP:  0.8416154820859495\n",
            "CNN:  0.8687422445949404\n",
            "=============== F2 ===============\n",
            "SVM:  0.857642859711513\n",
            "LR:  0.8722503883532436\n",
            "RF:  0.8469614872234915\n",
            "NB:  0.8210085981535399\n",
            "EXTRA:  0.8271429480028835\n",
            "KNN:  0.7846510358855451\n",
            "MLP:  0.8350019955146082\n",
            "CNN:  0.8588698809601699\n",
            "=============== F3 ===============\n",
            "SVM:  0.8630340285899539\n",
            "LR:  0.8693516559334885\n",
            "RF:  0.8523300389795244\n",
            "NB:  0.8377484825923397\n",
            "EXTRA:  0.8360090084169042\n",
            "KNN:  0.7887674647635201\n",
            "MLP:  0.8457145442108036\n",
            "CNN:  0.8683048671936778\n",
            "=============== F4 ===============\n",
            "SVM:  0.8705828037270166\n",
            "LR:  0.8842782598602086\n",
            "RF:  0.8501207400933786\n",
            "NB:  0.83483540430422\n",
            "EXTRA:  0.843447919376627\n",
            "KNN:  0.7753283895469725\n",
            "MLP:  0.8475241840027117\n",
            "CNN:  0.8740591575148183\n",
            "=============== F5 ===============\n",
            "SVM:  0.8671114110496981\n",
            "LR:  0.8748547680181814\n",
            "RF:  0.8532304363322848\n",
            "NB:  0.8282644914379399\n",
            "EXTRA:  0.820160948261436\n",
            "KNN:  0.7619591265622443\n",
            "MLP:  0.8483611303699851\n",
            "CNN:  0.871158857351209\n"
          ],
          "name": "stdout"
        }
      ]
    },
    {
      "cell_type": "code",
      "metadata": {
        "id": "n1lUR5wxvZBI"
      },
      "source": [
        "df = pd.DataFrame(data=export)\n",
        "df.to_excel(\"machine.xlsx\")"
      ],
      "execution_count": 6,
      "outputs": []
    },
    {
      "cell_type": "code",
      "metadata": {
        "colab": {
          "base_uri": "https://localhost:8080/"
        },
        "id": "gQzJ9XAFxK1L",
        "outputId": "5b396b0b-895f-4795-a842-60fb93f0ce95"
      },
      "source": [
        "scores = {}\n",
        "for machine in machines:\n",
        "  scores.update({machine: []})\n",
        "for fold, items in pred.items():\n",
        "  for clf, score in items.items():\n",
        "    scores[clf].append(score)\n",
        "\n",
        "export = {}\n",
        "for clf, score in scores.items():\n",
        "  print(\"========= \", clf, \"===========\")\n",
        "  print(\"Mean: \", np.mean(score))\n",
        "  print(\"STD: \", np.std(score))\n",
        "  export.update({clf: {\n",
        "      \"Mean\": \"%.3f\" % np.mean(score),\n",
        "      \"STD\": \"%.3f\" % np.std(score)\n",
        "  }})\n"
      ],
      "execution_count": 7,
      "outputs": [
        {
          "output_type": "stream",
          "text": [
            "=========  SVM ===========\n",
            "Mean:  0.8656451091199167\n",
            "STD:  0.004797980704324851\n",
            "=========  LR ===========\n",
            "Mean:  0.8757287946219888\n",
            "STD:  0.005125960397142395\n",
            "=========  RF ===========\n",
            "Mean:  0.8510342861838293\n",
            "STD:  0.0022872545036751457\n",
            "=========  NB ===========\n",
            "Mean:  0.8297564305173696\n",
            "STD:  0.005940291675693465\n",
            "=========  EXTRA ===========\n",
            "Mean:  0.8322767798293006\n",
            "STD:  0.007967165044892918\n",
            "=========  KNN ===========\n",
            "Mean:  0.7802143239627899\n",
            "STD:  0.010516783583517238\n",
            "=========  MLP ===========\n",
            "Mean:  0.8436434672368115\n",
            "STD:  0.004907003672001893\n",
            "=========  CNN ===========\n",
            "Mean:  0.8682270015229632\n",
            "STD:  0.0051075838871915925\n"
          ],
          "name": "stdout"
        }
      ]
    },
    {
      "cell_type": "code",
      "metadata": {
        "id": "2msD_DGJyY7p"
      },
      "source": [
        "df = pd.DataFrame(data=export)\n",
        "df.to_excel(\"mean-std-machine.xlsx\")"
      ],
      "execution_count": 8,
      "outputs": []
    },
    {
      "cell_type": "markdown",
      "metadata": {
        "id": "dEH23q2xL2tL"
      },
      "source": [
        "# Grupo B"
      ]
    },
    {
      "cell_type": "code",
      "metadata": {
        "id": "t34F48boyo51"
      },
      "source": [
        "pred = {\n",
        "    \"F1\": {},\n",
        "    \"F2\": {},\n",
        "    \"F3\": {},\n",
        "    \"F4\": {},\n",
        "    \"F5\": {},\n",
        "}"
      ],
      "execution_count": 9,
      "outputs": []
    },
    {
      "cell_type": "code",
      "metadata": {
        "colab": {
          "base_uri": "https://localhost:8080/"
        },
        "id": "xvoA9V0nL0SD",
        "outputId": "44defed4-0050-4926-b432-6af3e1856ca1"
      },
      "source": [
        "folds = [\"F1\", \"F2\", \"F3\", \"F4\", \"F5\"]\n",
        "\n",
        "export = {}\n",
        "for fold in folds:\n",
        "  export.update({fold: {}})\n",
        "  val, class_val, test, class_test = load_data(\"union\", fold)  \n",
        "  print(\"=============== {} ===============\".format(fold))\n",
        "  for feature, clfs in clfs_by_features.items():\n",
        "    # for clf in clfs:\n",
        "    cols = clfs\n",
        "    # # Instancia de MLP\n",
        "    val_vision = val[cols]    \n",
        "    test_vision = test[cols]\n",
        "\n",
        "    lr = LogisticRegression(random_state=42,  max_iter=500)\n",
        "    lr.fit(val_vision, class_val)\n",
        "    y_pred = lr.predict(test_vision)\n",
        "    f1 = f1_score(class_test, y_pred, average=\"macro\")\n",
        "    pred[fold].update({feature: f1})\n",
        "    export[fold].update({feature: \"%.3f\" % f1})\n",
        "    print(feature)\n",
        "    print(\"Accuracy: \",accuracy_score(class_test, y_pred))\n",
        "    print(\"F1: \", f1)\n",
        "    # print(\"\")\n"
      ],
      "execution_count": 10,
      "outputs": [
        {
          "output_type": "stream",
          "text": [
            "=============== F1 ===============\n",
            "CV\n",
            "Accuracy:  0.9016094242575079\n",
            "F1:  0.8701599764610789\n",
            "TFIDF\n",
            "Accuracy:  0.9029367844698856\n",
            "F1:  0.8705565147174653\n",
            "W2V\n",
            "Accuracy:  0.8599634975941596\n",
            "F1:  0.7986524025876042\n",
            "GLOVE\n",
            "Accuracy:  0.8486809357889498\n",
            "F1:  0.7638402956673825\n",
            "FAST\n",
            "Accuracy:  0.8405508544881367\n",
            "F1:  0.7573319283910305\n",
            "=============== F2 ===============\n",
            "CV\n",
            "Accuracy:  0.8949551941586459\n",
            "F1:  0.8596425048386731\n",
            "TFIDF\n",
            "Accuracy:  0.8979422502489214\n",
            "F1:  0.8624545589890031\n",
            "W2V\n",
            "Accuracy:  0.8549618320610687\n",
            "F1:  0.7878722665168465\n",
            "GLOVE\n",
            "Accuracy:  0.8494855625622303\n",
            "F1:  0.764277652437047\n",
            "FAST\n",
            "Accuracy:  0.8420179223365416\n",
            "F1:  0.7557098159993476\n",
            "=============== F3 ===============\n",
            "CV\n",
            "Accuracy:  0.8972784600066379\n",
            "F1:  0.8642274525658472\n",
            "TFIDF\n",
            "Accuracy:  0.9029206770660472\n",
            "F1:  0.8709364284787969\n",
            "W2V\n",
            "Accuracy:  0.861599734483903\n",
            "F1:  0.797679540058028\n",
            "GLOVE\n",
            "Accuracy:  0.8571191503484898\n",
            "F1:  0.780783357656158\n",
            "FAST\n",
            "Accuracy:  0.8340524394291404\n",
            "F1:  0.7370773760286485\n",
            "=============== F4 ===============\n",
            "CV\n",
            "Accuracy:  0.8994357782940591\n",
            "F1:  0.8691338132595225\n",
            "TFIDF\n",
            "Accuracy:  0.9054098904746101\n",
            "F1:  0.875683837986507\n",
            "W2V\n",
            "Accuracy:  0.8627613674078991\n",
            "F1:  0.8018899673913112\n",
            "GLOVE\n",
            "Accuracy:  0.855791569863923\n",
            "F1:  0.7798942891825421\n",
            "FAST\n",
            "Accuracy:  0.8375373382011284\n",
            "F1:  0.7542423410332568\n",
            "=============== F5 ===============\n",
            "CV\n",
            "Accuracy:  0.9010952538997676\n",
            "F1:  0.8680844021785726\n",
            "TFIDF\n",
            "Accuracy:  0.9045801526717557\n",
            "F1:  0.8714333938742603\n",
            "W2V\n",
            "Accuracy:  0.8514769332890807\n",
            "F1:  0.7793211901893349\n",
            "GLOVE\n",
            "Accuracy:  0.856953202787919\n",
            "F1:  0.7783333355163536\n",
            "FAST\n",
            "Accuracy:  0.8383670760039827\n",
            "F1:  0.760921016653767\n"
          ],
          "name": "stdout"
        }
      ]
    },
    {
      "cell_type": "code",
      "metadata": {
        "id": "NmliB2X3zdMJ"
      },
      "source": [
        "df = pd.DataFrame(data=export)\n",
        "df.to_excel(\"feature.xlsx\")"
      ],
      "execution_count": 11,
      "outputs": []
    },
    {
      "cell_type": "code",
      "metadata": {
        "colab": {
          "base_uri": "https://localhost:8080/"
        },
        "id": "fsc5UVVDyyHw",
        "outputId": "85920efe-f36a-4efd-bae6-1f8092b45187"
      },
      "source": [
        "# print(pred)\n",
        "scores = {}\n",
        "for feature in features:\n",
        "  scores.update({feature: []})\n",
        "for fold, items in pred.items():\n",
        "  for feature, score in items.items():\n",
        "    scores[feature].append(score)\n",
        "\n",
        "\n",
        "export = {}\n",
        "for feature, score in scores.items():\n",
        "  print(\"========= \", feature, \"===========\")\n",
        "  print(\"Mean: \", np.mean(score))\n",
        "  print(\"STD: \", np.std(score))\n",
        "  export.update({feature: {\n",
        "      \"Mean\": \"%.3f\" % np.mean(score),\n",
        "      \"STD\": \"%.3f\" % np.std(score)\n",
        "  }})"
      ],
      "execution_count": 12,
      "outputs": [
        {
          "output_type": "stream",
          "text": [
            "=========  CV ===========\n",
            "Mean:  0.8662496298607388\n",
            "STD:  0.00386572156110815\n",
            "=========  TFIDF ===========\n",
            "Mean:  0.8702129468092064\n",
            "STD:  0.004295443807453683\n",
            "=========  W2V ===========\n",
            "Mean:  0.7930830733486249\n",
            "STD:  0.00832163749498815\n",
            "=========  GLOVE ===========\n",
            "Mean:  0.7734257860918967\n",
            "STD:  0.0076893355884087855\n",
            "=========  FAST ===========\n",
            "Mean:  0.75305649562121\n",
            "STD:  0.008293474757476271\n"
          ],
          "name": "stdout"
        }
      ]
    },
    {
      "cell_type": "code",
      "metadata": {
        "id": "i-E-pcINz8Py"
      },
      "source": [
        "df = pd.DataFrame(data=export)\n",
        "df.to_excel(\"mean-std-feature.xlsx\")"
      ],
      "execution_count": 13,
      "outputs": []
    },
    {
      "cell_type": "markdown",
      "metadata": {
        "id": "kJzyFkiwMBLW"
      },
      "source": [
        "# Grupo C"
      ]
    },
    {
      "cell_type": "code",
      "metadata": {
        "id": "DsKj_41N0--q"
      },
      "source": [
        "pred = []\n",
        "export = {}"
      ],
      "execution_count": 22,
      "outputs": []
    },
    {
      "cell_type": "code",
      "metadata": {
        "colab": {
          "base_uri": "https://localhost:8080/"
        },
        "id": "29JyIrK6L6vY",
        "outputId": "592bc15f-822e-4c9e-a633-badd24121494"
      },
      "source": [
        "folds = [\"F1\", \"F2\", \"F3\", \"F4\", \"F5\"]\n",
        "\n",
        "for fold in folds:\n",
        "  # export.update({fold: {}})\n",
        "  val, class_val, test, class_test = load_data(\"union\", fold)  \n",
        "  print(\"=============== {} ===============\".format(fold))\n",
        "  val_vision = val\n",
        "  test_vision = test\n",
        "\n",
        "  lr = LogisticRegression(random_state=42,  max_iter=500)\n",
        "  lr.fit(val_vision, class_val)\n",
        "  y_pred = lr.predict(test_vision)\n",
        "  f1 = f1_score(class_test, y_pred, average=\"macro\")\n",
        "  pred.append(f1)\n",
        "  export[fold] = \"%.3f\" % f1\n",
        "  print(\" TODOS \")\n",
        "  print(\"Accuracy: \",accuracy_score(class_test, y_pred))\n",
        "  print(\"F1: \", f1)\n",
        "  # print(\"\")"
      ],
      "execution_count": 23,
      "outputs": [
        {
          "output_type": "stream",
          "text": [
            "=============== F1 ===============\n"
          ],
          "name": "stdout"
        },
        {
          "output_type": "stream",
          "text": [
            "/usr/local/lib/python3.7/dist-packages/sklearn/linear_model/_logistic.py:940: ConvergenceWarning: lbfgs failed to converge (status=1):\n",
            "STOP: TOTAL NO. of ITERATIONS REACHED LIMIT.\n",
            "\n",
            "Increase the number of iterations (max_iter) or scale the data as shown in:\n",
            "    https://scikit-learn.org/stable/modules/preprocessing.html\n",
            "Please also refer to the documentation for alternative solver options:\n",
            "    https://scikit-learn.org/stable/modules/linear_model.html#logistic-regression\n",
            "  extra_warning_msg=_LOGISTIC_SOLVER_CONVERGENCE_MSG)\n"
          ],
          "name": "stderr"
        },
        {
          "output_type": "stream",
          "text": [
            " TODOS \n",
            "Accuracy:  0.8996183839389414\n",
            "F1:  0.8644760158267221\n",
            "=============== F2 ===============\n",
            " TODOS \n",
            "Accuracy:  0.8898108197809492\n",
            "F1:  0.8484439464897875\n",
            "=============== F3 ===============\n",
            " TODOS \n",
            "Accuracy:  0.9004314636574843\n",
            "F1:  0.8660961303054765\n",
            "=============== F4 ===============\n",
            " TODOS \n",
            "Accuracy:  0.8942914039163624\n",
            "F1:  0.8593472011250479\n",
            "=============== F5 ===============\n",
            " TODOS \n",
            "Accuracy:  0.8873216063723863\n",
            "F1:  0.8456321661526389\n"
          ],
          "name": "stdout"
        }
      ]
    },
    {
      "cell_type": "code",
      "metadata": {
        "colab": {
          "base_uri": "https://localhost:8080/"
        },
        "id": "i_FmiZg41EF3",
        "outputId": "d65236c2-8f5a-4bb8-f393-e31d2bf2e281"
      },
      "source": [
        "df = pd.DataFrame(data=export, index=[0])\n",
        "df.to_excel(\"all.xlsx\")\n",
        "\n",
        "print(\"========= \", \"TODOS\", \"===========\")\n",
        "print(\"Mean: \", np.mean(pred))\n",
        "print(\"STD: \", np.std(pred))"
      ],
      "execution_count": 24,
      "outputs": [
        {
          "output_type": "stream",
          "text": [
            "=========  TODOS ===========\n",
            "Mean:  0.8567990919799346\n",
            "STD:  0.008323119970122117\n"
          ],
          "name": "stdout"
        }
      ]
    },
    {
      "cell_type": "markdown",
      "metadata": {
        "id": "yDJYlRfSoaRE"
      },
      "source": [
        "# CLUSTERS"
      ]
    },
    {
      "cell_type": "code",
      "metadata": {
        "id": "m2NZsMnFbv9H"
      },
      "source": [
        "def load_clfs(fold):  \n",
        "  import random\n",
        "  clfs_fold = []\n",
        "  quantidade = random.randint(5, len(fold)-1)\n",
        "  sorteados = 0\n",
        "  indices = []\n",
        "  while sorteados < quantidade:\n",
        "    item = random.randint(0, len(fold)-1)\n",
        "    if not item in indices:\n",
        "      indices.append(item)\n",
        "      sorteados += 1\n",
        "\n",
        "  for i in indices:\n",
        "    # print(i)\n",
        "    # print(fold[i])\n",
        "    clfs_fold.append(random.choices(fold[i].split(\", \"))[0])\n",
        "  return quantidade, clfs_fold\n",
        "\n",
        "F1 = [\n",
        "    \"RF-CV, RF-TFIDF\",\n",
        "    \"SVM-GLOVE, MLP-GLOVE\",\n",
        "    \"NB-CV, NB-TFIDF\",\n",
        "    \"LR-W2V, SVM-W2V, MLP-W2V, MLP-FAST\",\n",
        "    \"NB-GLOVE, LR-GLOVE, RF-GLOVE, EXTRA-GLOVE, KNN-GLOVE\",\n",
        "    \"EXTRA-W2V, KNN-W2V, RF-W2V\",\n",
        "    \"KNN-FAST, EXTRA-FAST, RF-FAST\",\n",
        "    \"CNN-FAST, CNN-W2V, CNN-GLOVE\",\n",
        "    \"EXTRA-CV, EXTRA-TFIDF\",\n",
        "    \"NB-FAST, NB-W2V, KNN-TFIDF\",\n",
        "    \"SVM-TFIDF, MLP-TFIDF, LR-CV, LR-TFIDF, SVM-CV, CNN-CV, CNN-TF, KNN-CV, MLP-CV\",\n",
        "    \"SVM-FAST, LR-FAST\"\n",
        "]\n",
        "\n",
        "F2 = [\n",
        "    \"MLP-GLOVE, LR-GLOVE, SVM-GLOVE\",\n",
        "    \"KNN-TFIDF, NB-W2V, NB-FAST\",\n",
        "    \"LR-W2V, SVM-W2V, MLP-W2V, MLP-FAST\",\n",
        "    \"RF-FAST, KNN-FAST, EXTRA-FAST\",\n",
        "    \"LR-FAST, SVM-FAST\",\n",
        "    \"SVM-CV, LR-CV, SVM-TFIDF, MLP-TFIDF\",\n",
        "    \"NB-CV, NB-TFIDF\",\n",
        "    \"KNN-W2V, EXTRA-W2V, RF-W2V, CNN-FAST, CNN-W2V, CNN-GLOVE, KNN-CV\",\n",
        "    \"EXTRA-GLOVE, RF-GLOVE, KNN-GLOVE, NB-GLOVE\",\n",
        "    \"EXTRA-TFIDF, RF-TFIDF, RF-CV, EXTRA-CV\",\n",
        "    \"MLP-CV, MLP-TFIDF\",\n",
        "    \"CNN-CV, CNN-TF\"\n",
        "]\n",
        "\n",
        "F3 = [\n",
        "    \"EXTRA-W2V, RF-W2V\",\n",
        "    \"RF-GLOVE, EXTRA-GLOVE, KNN-GLOVE\",\n",
        "    \"MLP-W2V, SVM-W2V, LR-W2V\",\n",
        "    \"KNN-W2V, RF-FAST, EXTRA-FAST, KNN-FAST\",\n",
        "    \"MLP-GLOVE, SVM-GLOVE, LR-GLOVE, NB-GLOVE\",\n",
        "    \"CNN-GLOVE, CNN-W2V\",\n",
        "    \"KNN-TFIDF, NB-W2V, NB-FAST\",\n",
        "    \"NB-CV, NB-TFIDF\",\n",
        "    \"LR-TFIDF, LR-CV, MLP-CV, MLP-TFIDF, SVM-CV, SVM-TFIDF\",\n",
        "    \"CNN-TF, CNN-CV, EXTRA-TFIDF, EXTRA-CV, RF-TFIDF, RF-CV, CNN-FAST, KNN-CV\",\n",
        "    \"LR-FAST, SVM-FAST, MLP-FAST\"\n",
        "]\n",
        "\n",
        "F4 = [\n",
        "    \"EXTRA-W2V, RF-W2V, KNN-W2V\",\n",
        "    \"KNN-TFIDF, NB-W2V, NB-FAST\",\n",
        "    \"NB-TFIDF, NB-CV\",\n",
        "    \"MLP-FAST, MLP-W2V\",\n",
        "    \"NB-GLOVE, RF-GLOVE, CNN-GLOVE, EXTRA-GLOVE\",\n",
        "    \"KNN-FAST, EXTRA-FAST, RF-FAST\",\n",
        "    \"SVM-W2V, LR-W2V\",\n",
        "    \"LR-CV, LR-TFIDF\",\n",
        "    \"CNN-GLOVE, CNN-CV, CNN-W2V\",\n",
        "    \"MLP-GLOVE, LR-GLOVE, SVM-GLOVE\",\n",
        "    \"SVM-FAST, LR-FAST\",\n",
        "    \"EXTRA-CV, RF-CV\",\n",
        "    \"SVM-CV, SVM-TFIDF, MLP-CV, MLP-TFIDF\",\n",
        "    \"CNN-TF, CNN-CV, CNN-FAST, RF-TFIDF, EXTRA-TFIDF\"\n",
        "]\n",
        "\n",
        "F5 = [\n",
        "    \"RF-FAST, EXTRA-FAST, KNN-FAST\",\n",
        "    \"EXTRA-W2V, RF-W2V, KNN-W2V\",\n",
        "    \"LR-W2V, SVM-W2V\",\n",
        "    \"MLP-W2V, MLP-FAST\",\n",
        "    \"NB-GLOVE, LR-GLOVE, SVM-GLOVE, MLP-GLOVE, EXTRA-GLOVE, RF-GLOVE, KNN-GLOVE\",\n",
        "    \"KNN-TFIDF, NB-W2V, NB-FAST\",\n",
        "    \"EXTRA-CV, RF-CV\",\n",
        "    \"LR-FAST, SVM-FAST\",\n",
        "    \"CNN-W2V, CNN-FAST\",\n",
        "    \"MLP-CV, MLP-TFIDF, SVM-CV, SVM-TFIDF, LR-CV, LR-TFIDF, CNN-CV\",\n",
        "    \"CNN-GLOVE, KNN-CV, NB-TFIDF, NB-CV\",\n",
        "    \"RF-TFIDF, EXTRA-TFIDF, CNN-TF\"\n",
        "]"
      ],
      "execution_count": 27,
      "outputs": []
    },
    {
      "cell_type": "markdown",
      "metadata": {
        "id": "oHjKYiQBMFl-"
      },
      "source": [
        "# Grupo D"
      ]
    },
    {
      "cell_type": "code",
      "metadata": {
        "id": "Da0MY2AkMHrV"
      },
      "source": [
        "clusters = {\"F1\": F1, \"F2\": F2, \"F3\": F3, \"F4\": F4, \"F5\": F5}\n",
        "results = {}\n",
        "for fold, cluster in clusters.items():\n",
        "  cont = 1\n",
        "  results.update({fold: {\"clfs\": [], \"f1\": 0}})\n",
        "  while cont < 300:\n",
        "    qt, clfs = load_clfs(cluster)\n",
        "    pred = []\n",
        "    # folds = [\"F1\"]\n",
        "    # fold=\"F1\"\n",
        "\n",
        "    val, class_val, test, class_test = load_data(\"union\", fold)\n",
        "    cols = []\n",
        "    # columns \n",
        "    for clf in clfs:\n",
        "      for i in range(0,3):\n",
        "        cols.append(\"{}-{}\".format(clf, i))\n",
        "    \n",
        "    val_vision = val[cols]\n",
        "    test_vision = test[cols]\n",
        "    # Treinamento\n",
        "    lr = LogisticRegression(random_state=42,  max_iter=500)\n",
        "    lr.fit(val_vision, class_val)\n",
        "    y_pred = lr.predict(test_vision)\n",
        "    f1 = f1_score(class_test, y_pred, average=\"macro\")\n",
        "    pred.append(f1)\n",
        "    # print(\"=============== {} ===============\".format(fold))\n",
        "\n",
        "    if f1 > results[fold][\"f1\"]:\n",
        "      results[fold].update({\"clfs\": clfs, \"f1\": f1})\n",
        "    \n",
        "    cont += 1"
      ],
      "execution_count": 28,
      "outputs": []
    },
    {
      "cell_type": "code",
      "metadata": {
        "colab": {
          "base_uri": "https://localhost:8080/"
        },
        "id": "s4HjPTYTEvbm",
        "outputId": "211fef43-e113-453b-f626-69bf2fa8c259"
      },
      "source": [
        "results"
      ],
      "execution_count": 29,
      "outputs": [
        {
          "output_type": "execute_result",
          "data": {
            "text/plain": [
              "{'F1': {'clfs': ['MLP-W2V',\n",
              "   'NB-TFIDF',\n",
              "   'RF-TFIDF',\n",
              "   'KNN-TFIDF',\n",
              "   'SVM-CV',\n",
              "   'KNN-W2V',\n",
              "   'KNN-FAST',\n",
              "   'CNN-W2V',\n",
              "   'SVM-FAST'],\n",
              "  'f1': 0.8715076282280257},\n",
              " 'F2': {'clfs': ['MLP-TFIDF',\n",
              "   'NB-CV',\n",
              "   'SVM-CV',\n",
              "   'CNN-TF',\n",
              "   'KNN-TFIDF',\n",
              "   'CNN-FAST',\n",
              "   'EXTRA-TFIDF'],\n",
              "  'f1': 0.8704047889407267},\n",
              " 'F3': {'clfs': ['KNN-TFIDF',\n",
              "   'RF-CV',\n",
              "   'SVM-W2V',\n",
              "   'LR-GLOVE',\n",
              "   'NB-TFIDF',\n",
              "   'KNN-FAST',\n",
              "   'KNN-GLOVE',\n",
              "   'SVM-CV'],\n",
              "  'f1': 0.8748893910875429},\n",
              " 'F4': {'clfs': ['SVM-TFIDF',\n",
              "   'KNN-TFIDF',\n",
              "   'CNN-W2V',\n",
              "   'KNN-FAST',\n",
              "   'SVM-FAST',\n",
              "   'EXTRA-CV',\n",
              "   'KNN-W2V',\n",
              "   'NB-TFIDF',\n",
              "   'SVM-GLOVE',\n",
              "   'LR-W2V',\n",
              "   'MLP-FAST'],\n",
              "  'f1': 0.8764188290929202},\n",
              " 'F5': {'clfs': ['CNN-W2V',\n",
              "   'RF-TFIDF',\n",
              "   'NB-W2V',\n",
              "   'NB-TFIDF',\n",
              "   'MLP-TFIDF',\n",
              "   'MLP-W2V'],\n",
              "  'f1': 0.875191856533438}}"
            ]
          },
          "metadata": {
            "tags": []
          },
          "execution_count": 29
        }
      ]
    },
    {
      "cell_type": "code",
      "metadata": {
        "id": "QW5C51RwGh9W"
      },
      "source": [
        "df = pd.DataFrame(data=results)\n",
        "df.to_excel(\"stacked.xlsx\")"
      ],
      "execution_count": 30,
      "outputs": []
    },
    {
      "cell_type": "code",
      "metadata": {
        "colab": {
          "base_uri": "https://localhost:8080/"
        },
        "id": "-0u_RkYPA-Mq",
        "outputId": "6b3a1502-645b-4482-a4fe-c8bd7bfaed95"
      },
      "source": [
        "lista = []\n",
        "for fold, result in results.items():\n",
        "  lista.append(result[\"f1\"])\n",
        "print(\"========= \", \"COMBINAÇÃO\", \"===========\")\n",
        "print(\"Mean: \", np.mean(lista))\n",
        "print(\"STD: \", np.std(lista))"
      ],
      "execution_count": 31,
      "outputs": [
        {
          "output_type": "stream",
          "text": [
            "=========  COMBINAÇÃO ===========\n",
            "Mean:  0.8736824987765306\n",
            "STD:  0.002310657792040599\n"
          ],
          "name": "stdout"
        }
      ]
    }
  ]
}