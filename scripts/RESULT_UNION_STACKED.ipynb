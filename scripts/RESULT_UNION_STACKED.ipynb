{
  "nbformat": 4,
  "nbformat_minor": 0,
  "metadata": {
    "colab": {
      "name": "RESULT_UNION_STACKED.ipynb",
      "provenance": [],
      "collapsed_sections": []
    },
    "kernelspec": {
      "display_name": "Python 3",
      "name": "python3"
    },
    "language_info": {
      "name": "python"
    }
  },
  "cells": [
    {
      "cell_type": "code",
      "metadata": {
        "colab": {
          "base_uri": "https://localhost:8080/"
        },
        "id": "hFBQuE1qM15n",
        "outputId": "0119e760-e8f0-4456-85b1-07767ab0c23d"
      },
      "source": [
        "from google.colab import drive\n",
        "drive.mount('/content/drive')"
      ],
      "execution_count": 1,
      "outputs": [
        {
          "output_type": "stream",
          "text": [
            "Mounted at /content/drive\n"
          ],
          "name": "stdout"
        }
      ]
    },
    {
      "cell_type": "code",
      "metadata": {
        "id": "plE4kBGvLTaQ"
      },
      "source": [
        "import pandas as pd\n",
        "import numpy as np\n",
        "from sklearn.metrics import accuracy_score, f1_score\n",
        "from sklearn.neural_network import MLPClassifier\n",
        "from sklearn.ensemble import RandomForestClassifier\n",
        "from sklearn.linear_model import LogisticRegression"
      ],
      "execution_count": 2,
      "outputs": []
    },
    {
      "cell_type": "code",
      "metadata": {
        "id": "CkCExKpTLce5"
      },
      "source": [
        "path = \"/content/drive/MyDrive/Dataset/Folds\"\n",
        "def load_data(dataset, fold):\n",
        "  uri_val = \"{}/{}/{}/prob_train.csv\".format(path, dataset, fold)\n",
        "  uri_test = \"{}/{}/{}/prob_test.csv\".format(path, dataset, fold)\n",
        "  uri_test_pred = \"{}/{}/{}/pred_test.csv\".format(path, dataset, fold)\n",
        "  df_val   = pd.read_table(uri_val, sep=',')\n",
        "  df_test = pd.read_table(uri_test, sep=',')\n",
        "  df_test_pred = pd.read_table(uri_test_pred, sep=',')\n",
        "  val, class_val = df_val.drop(columns=['Unnamed: 0', 'Unnamed: 0.1', 'class']), df_val['class']\n",
        "  test, class_test = df_test_pred.drop(columns=['Unnamed: 0', 'Unnamed: 0.1', 'class']), df_test_pred[\"class\"]  \n",
        "  return val, class_val, test, class_test\n"
      ],
      "execution_count": 22,
      "outputs": []
    },
    {
      "cell_type": "code",
      "metadata": {
        "id": "qPO1SCo2LxDr"
      },
      "source": [
        "machines = [\"SVM\", \"LR\", \"RF\", \"NB\", \"EXTRA\", \"KNN\", \"MLP\", \"CNN\"]\n",
        "features = [\"CV\", \"TFIDF\", \"W2V\", \"GLOVE\", \"FAST\"]\n",
        "labels = [\"0\", \"1\", \"2\"]\n",
        "clfs = {}\n",
        "\n",
        "for machine in machines:\n",
        "  clfs[machine] = []\n",
        "  for feature in features:\n",
        "    if machine == \"CNN\" and feature == \"TFIDF\":\n",
        "      feature = \"TF\"\n",
        "    for label in labels:\n",
        "      clfs[machine].append(\"{}-{}-{}\".format(machine, feature, label))\n",
        "\n",
        "\n",
        "clfs_by_features = {}\n",
        "for feature in features:\n",
        "  clfs_by_features[feature] = []\n",
        "  for machine in machines:\n",
        "    for label in labels:\n",
        "      if machine == \"CNN\" and feature == \"TFIDF\":\n",
        "        clfs_by_features[feature].append(\"CNN-TF-{}\".format(label))\n",
        "      else:\n",
        "        clfs_by_features[feature].append(\"{}-{}-{}\".format(machine, feature, label))"
      ],
      "execution_count": 4,
      "outputs": []
    },
    {
      "cell_type": "code",
      "metadata": {
        "colab": {
          "base_uri": "https://localhost:8080/"
        },
        "id": "WsNA8PKMLyOi",
        "outputId": "4957ea51-8654-4a87-b232-2bc949846cc5"
      },
      "source": [
        "folds = [\"F1\", \"F2\", \"F3\", \"F4\", \"F5\"]\n",
        "pred = {\n",
        "    \"F1\": {},\n",
        "    \"F2\": {},\n",
        "    \"F3\": {},\n",
        "    \"F4\": {},\n",
        "    \"F5\": {},\n",
        "}\n",
        "export = {}\n",
        "for fold in folds:\n",
        "  val, class_val, test, class_test = load_data(\"td\", fold)  \n",
        "  export.update({fold: {}})\n",
        "  print(\"=============== {} ===============\".format(fold))\n",
        "  for machine, clf in clfs.items():\n",
        "    cols = clfs[machine]\n",
        "    val_vision = val[cols]    \n",
        "    test_vision = test[cols]\n",
        "    \n",
        "    # Instancia de MLP\n",
        "    lr = LogisticRegression(random_state=42,  max_iter=500)\n",
        "\n",
        "    lr.fit(val_vision, class_val)\n",
        "    y_pred = lr.predict(test_vision)\n",
        "    f1 = f1_score(class_test, y_pred, average=\"macro\")\n",
        "    pred[fold].update({machine: f1})\n",
        "    export[fold].update({machine: \"%.3f\" % f1})\n",
        "    print(\"{}: \".format(machine), f1)"
      ],
      "execution_count": 5,
      "outputs": [
        {
          "output_type": "stream",
          "text": [
            "=============== F1 ===============\n",
            "SVM:  0.7296244716455611\n",
            "LR:  0.7290244091214896\n",
            "RF:  0.6485832289927996\n",
            "NB:  0.6522998660032365\n",
            "EXTRA:  0.6186032489858709\n",
            "KNN:  0.6534997557628647\n",
            "MLP:  0.7093871316511203\n",
            "CNN:  0.7245991207894513\n",
            "=============== F2 ===============\n",
            "SVM:  0.7262150696023575\n",
            "LR:  0.7115050257709115\n",
            "RF:  0.6170293548345253\n",
            "NB:  0.6537955473185327\n",
            "EXTRA:  0.6010850814662466\n",
            "KNN:  0.6527217906252477\n",
            "MLP:  0.6930807879343851\n",
            "CNN:  0.7349545062178487\n",
            "=============== F3 ===============\n",
            "SVM:  0.7344175999510707\n",
            "LR:  0.7318882053826407\n",
            "RF:  0.6357890909119894\n",
            "NB:  0.6553635316863841\n",
            "EXTRA:  0.6137210875695344\n",
            "KNN:  0.664209499789965\n",
            "MLP:  0.7032122197638152\n",
            "CNN:  0.7303482657404627\n",
            "=============== F4 ===============\n",
            "SVM:  0.7319752742495874\n",
            "LR:  0.726209957433479\n",
            "RF:  0.6358754193922116\n",
            "NB:  0.6532464356547852\n",
            "EXTRA:  0.6048822189573566\n",
            "KNN:  0.6626319861050958\n",
            "MLP:  0.695852501180022\n",
            "CNN:  0.717082880866193\n",
            "=============== F5 ===============\n",
            "SVM:  0.7049535022259864\n",
            "LR:  0.7271843750300165\n",
            "RF:  0.6372961229903985\n",
            "NB:  0.6487401919969256\n",
            "EXTRA:  0.6161702477514134\n",
            "KNN:  0.6561134069904034\n",
            "MLP:  0.68799035579216\n",
            "CNN:  0.708018810762137\n"
          ],
          "name": "stdout"
        }
      ]
    },
    {
      "cell_type": "code",
      "metadata": {
        "id": "n1lUR5wxvZBI"
      },
      "source": [
        "df = pd.DataFrame(data=export)\n",
        "df.to_excel(\"machine.xlsx\")"
      ],
      "execution_count": 6,
      "outputs": []
    },
    {
      "cell_type": "code",
      "metadata": {
        "colab": {
          "base_uri": "https://localhost:8080/"
        },
        "id": "gQzJ9XAFxK1L",
        "outputId": "515bd1be-3ad7-4390-d5e4-f1e1dcb58618"
      },
      "source": [
        "scores = {}\n",
        "for machine in machines:\n",
        "  scores.update({machine: []})\n",
        "for fold, items in pred.items():\n",
        "  for clf, score in items.items():\n",
        "    scores[clf].append(score)\n",
        "\n",
        "export = {}\n",
        "for clf, score in scores.items():\n",
        "  print(\"========= \", clf, \"===========\")\n",
        "  print(\"Mean: \", np.mean(score))\n",
        "  print(\"STD: \", np.std(score))\n",
        "  export.update({clf: {\n",
        "      \"Mean\": \"%.3f\" % np.mean(score),\n",
        "      \"STD\": \"%.3f\" % np.std(score)\n",
        "  }})\n"
      ],
      "execution_count": 7,
      "outputs": [
        {
          "output_type": "stream",
          "text": [
            "=========  SVM ===========\n",
            "Mean:  0.7254371835349126\n",
            "STD:  0.010593528190570642\n",
            "=========  LR ===========\n",
            "Mean:  0.7251623945477075\n",
            "STD:  0.007097340388220048\n",
            "=========  RF ===========\n",
            "Mean:  0.6349146434243849\n",
            "STD:  0.010139753184135307\n",
            "=========  NB ===========\n",
            "Mean:  0.6526891145319729\n",
            "STD:  0.0022105569916129357\n",
            "=========  EXTRA ===========\n",
            "Mean:  0.6108923769460844\n",
            "STD:  0.006747149254629535\n",
            "=========  KNN ===========\n",
            "Mean:  0.6578352878547153\n",
            "STD:  0.00472331362597924\n",
            "=========  MLP ===========\n",
            "Mean:  0.6979045992643005\n",
            "STD:  0.007560315751345792\n",
            "=========  CNN ===========\n",
            "Mean:  0.7230007168752185\n",
            "STD:  0.009580320901296308\n"
          ],
          "name": "stdout"
        }
      ]
    },
    {
      "cell_type": "code",
      "metadata": {
        "id": "2msD_DGJyY7p"
      },
      "source": [
        "df = pd.DataFrame(data=export)\n",
        "df.to_excel(\"mean-std-machine.xlsx\")"
      ],
      "execution_count": 8,
      "outputs": []
    },
    {
      "cell_type": "markdown",
      "metadata": {
        "id": "dEH23q2xL2tL"
      },
      "source": [
        "# Grupo B"
      ]
    },
    {
      "cell_type": "code",
      "metadata": {
        "id": "t34F48boyo51"
      },
      "source": [
        "pred = {\n",
        "    \"F1\": {},\n",
        "    \"F2\": {},\n",
        "    \"F3\": {},\n",
        "    \"F4\": {},\n",
        "    \"F5\": {},\n",
        "}"
      ],
      "execution_count": 9,
      "outputs": []
    },
    {
      "cell_type": "code",
      "metadata": {
        "colab": {
          "base_uri": "https://localhost:8080/"
        },
        "id": "xvoA9V0nL0SD",
        "outputId": "8b3878b7-0cbe-4c65-cbf7-b7c7a8a0e9c2"
      },
      "source": [
        "folds = [\"F1\", \"F2\", \"F3\", \"F4\", \"F5\"]\n",
        "\n",
        "export = {}\n",
        "for fold in folds:\n",
        "  export.update({fold: {}})\n",
        "  val, class_val, test, class_test = load_data(\"union\", fold)  \n",
        "  print(\"=============== {} ===============\".format(fold))\n",
        "  for feature, clfs in clfs_by_features.items():\n",
        "    # for clf in clfs:\n",
        "    cols = clfs\n",
        "    # # Instancia de MLP\n",
        "    val_vision = val[cols]    \n",
        "    test_vision = test[cols]\n",
        "\n",
        "    lr = LogisticRegression(random_state=42,  max_iter=500)\n",
        "    lr.fit(val_vision, class_val)\n",
        "    y_pred = lr.predict(test_vision)\n",
        "    f1 = f1_score(class_test, y_pred, average=\"macro\")\n",
        "    pred[fold].update({feature: f1})\n",
        "    export[fold].update({feature: \"%.3f\" % f1})\n",
        "    print(feature)\n",
        "    print(\"Accuracy: \",accuracy_score(class_test, y_pred))\n",
        "    print(\"F1: \", f1)\n",
        "    # print(\"\")\n"
      ],
      "execution_count": 10,
      "outputs": [
        {
          "output_type": "stream",
          "text": [
            "=============== F1 ===============\n",
            "CV\n",
            "Accuracy:  0.9016094242575079\n",
            "F1:  0.8701599764610789\n",
            "TFIDF\n",
            "Accuracy:  0.9029367844698856\n",
            "F1:  0.8705565147174653\n",
            "W2V\n",
            "Accuracy:  0.8599634975941596\n",
            "F1:  0.7986524025876042\n",
            "GLOVE\n",
            "Accuracy:  0.8486809357889498\n",
            "F1:  0.7638402956673825\n",
            "FAST\n",
            "Accuracy:  0.8405508544881367\n",
            "F1:  0.7573319283910305\n",
            "=============== F2 ===============\n",
            "CV\n",
            "Accuracy:  0.8949551941586459\n",
            "F1:  0.8596425048386731\n",
            "TFIDF\n",
            "Accuracy:  0.8979422502489214\n",
            "F1:  0.8624545589890031\n",
            "W2V\n",
            "Accuracy:  0.8549618320610687\n",
            "F1:  0.7878722665168465\n",
            "GLOVE\n",
            "Accuracy:  0.8494855625622303\n",
            "F1:  0.764277652437047\n",
            "FAST\n",
            "Accuracy:  0.8420179223365416\n",
            "F1:  0.7557098159993476\n",
            "=============== F3 ===============\n",
            "CV\n",
            "Accuracy:  0.8972784600066379\n",
            "F1:  0.8642274525658472\n",
            "TFIDF\n",
            "Accuracy:  0.9029206770660472\n",
            "F1:  0.8709364284787969\n",
            "W2V\n",
            "Accuracy:  0.861599734483903\n",
            "F1:  0.797679540058028\n",
            "GLOVE\n",
            "Accuracy:  0.8571191503484898\n",
            "F1:  0.780783357656158\n",
            "FAST\n",
            "Accuracy:  0.8340524394291404\n",
            "F1:  0.7370773760286485\n",
            "=============== F4 ===============\n",
            "CV\n",
            "Accuracy:  0.8994357782940591\n",
            "F1:  0.8691338132595225\n",
            "TFIDF\n",
            "Accuracy:  0.9054098904746101\n",
            "F1:  0.875683837986507\n",
            "W2V\n",
            "Accuracy:  0.8627613674078991\n",
            "F1:  0.8018899673913112\n",
            "GLOVE\n",
            "Accuracy:  0.855791569863923\n",
            "F1:  0.7798942891825421\n",
            "FAST\n",
            "Accuracy:  0.8375373382011284\n",
            "F1:  0.7542423410332568\n",
            "=============== F5 ===============\n",
            "CV\n",
            "Accuracy:  0.9010952538997676\n",
            "F1:  0.8680844021785726\n",
            "TFIDF\n",
            "Accuracy:  0.9045801526717557\n",
            "F1:  0.8714333938742603\n",
            "W2V\n",
            "Accuracy:  0.8514769332890807\n",
            "F1:  0.7793211901893349\n",
            "GLOVE\n",
            "Accuracy:  0.856953202787919\n",
            "F1:  0.7783333355163536\n",
            "FAST\n",
            "Accuracy:  0.8383670760039827\n",
            "F1:  0.760921016653767\n"
          ],
          "name": "stdout"
        }
      ]
    },
    {
      "cell_type": "code",
      "metadata": {
        "id": "NmliB2X3zdMJ"
      },
      "source": [
        "df = pd.DataFrame(data=export)\n",
        "df.to_excel(\"feature.xlsx\")"
      ],
      "execution_count": 11,
      "outputs": []
    },
    {
      "cell_type": "code",
      "metadata": {
        "colab": {
          "base_uri": "https://localhost:8080/"
        },
        "id": "fsc5UVVDyyHw",
        "outputId": "1bec2ac4-cfac-49c0-bc84-1aac60d0b584"
      },
      "source": [
        "# print(pred)\n",
        "scores = {}\n",
        "for feature in features:\n",
        "  scores.update({feature: []})\n",
        "for fold, items in pred.items():\n",
        "  for feature, score in items.items():\n",
        "    scores[feature].append(score)\n",
        "\n",
        "\n",
        "export = {}\n",
        "for feature, score in scores.items():\n",
        "  print(\"========= \", feature, \"===========\")\n",
        "  print(\"Mean: \", np.mean(score))\n",
        "  print(\"STD: \", np.std(score))\n",
        "  export.update({feature: {\n",
        "      \"Mean\": \"%.3f\" % np.mean(score),\n",
        "      \"STD\": \"%.3f\" % np.std(score)\n",
        "  }})"
      ],
      "execution_count": 12,
      "outputs": [
        {
          "output_type": "stream",
          "text": [
            "=========  CV ===========\n",
            "Mean:  0.8662496298607388\n",
            "STD:  0.00386572156110815\n",
            "=========  TFIDF ===========\n",
            "Mean:  0.8702129468092064\n",
            "STD:  0.004295443807453683\n",
            "=========  W2V ===========\n",
            "Mean:  0.7930830733486249\n",
            "STD:  0.00832163749498815\n",
            "=========  GLOVE ===========\n",
            "Mean:  0.7734257860918967\n",
            "STD:  0.0076893355884087855\n",
            "=========  FAST ===========\n",
            "Mean:  0.75305649562121\n",
            "STD:  0.008293474757476271\n"
          ],
          "name": "stdout"
        }
      ]
    },
    {
      "cell_type": "code",
      "metadata": {
        "id": "i-E-pcINz8Py"
      },
      "source": [
        "df = pd.DataFrame(data=export)\n",
        "df.to_excel(\"mean-std-feature.xlsx\")"
      ],
      "execution_count": 13,
      "outputs": []
    },
    {
      "cell_type": "markdown",
      "metadata": {
        "id": "kJzyFkiwMBLW"
      },
      "source": [
        "# Grupo C"
      ]
    },
    {
      "cell_type": "code",
      "metadata": {
        "id": "DsKj_41N0--q"
      },
      "source": [
        "pred = []\n",
        "export = {}"
      ],
      "execution_count": 14,
      "outputs": []
    },
    {
      "cell_type": "code",
      "metadata": {
        "colab": {
          "base_uri": "https://localhost:8080/"
        },
        "id": "29JyIrK6L6vY",
        "outputId": "fd6071ff-d1b0-4a65-9fd3-3d60f4e70d3f"
      },
      "source": [
        "folds = [\"F1\", \"F2\", \"F3\", \"F4\", \"F5\"]\n",
        "\n",
        "for fold in folds:\n",
        "  # export.update({fold: {}})\n",
        "  val, class_val, test, class_test = load_data(\"td\", fold)  \n",
        "  print(\"=============== {} ===============\".format(fold))\n",
        "  val_vision = val\n",
        "  test_vision = test\n",
        "\n",
        "  lr = LogisticRegression(random_state=42,  max_iter=500)\n",
        "  lr.fit(val_vision, class_val)\n",
        "  y_pred = lr.predict(test_vision)\n",
        "  f1 = f1_score(class_test, y_pred, average=\"macro\")\n",
        "  pred.append(f1)\n",
        "  export[fold] = \"%.3f\" % f1\n",
        "  print(\" TODOS \")\n",
        "  print(\"Accuracy: \",accuracy_score(class_test, y_pred))\n",
        "  print(\"F1: \", f1)\n",
        "  # print(\"\")"
      ],
      "execution_count": 15,
      "outputs": [
        {
          "output_type": "stream",
          "text": [
            "=============== F1 ===============\n"
          ],
          "name": "stdout"
        },
        {
          "output_type": "stream",
          "text": [
            "/usr/local/lib/python3.7/dist-packages/sklearn/linear_model/_logistic.py:940: ConvergenceWarning: lbfgs failed to converge (status=1):\n",
            "STOP: TOTAL NO. of ITERATIONS REACHED LIMIT.\n",
            "\n",
            "Increase the number of iterations (max_iter) or scale the data as shown in:\n",
            "    https://scikit-learn.org/stable/modules/preprocessing.html\n",
            "Please also refer to the documentation for alternative solver options:\n",
            "    https://scikit-learn.org/stable/modules/linear_model.html#logistic-regression\n",
            "  extra_warning_msg=_LOGISTIC_SOLVER_CONVERGENCE_MSG)\n"
          ],
          "name": "stderr"
        },
        {
          "output_type": "stream",
          "text": [
            " TODOS \n",
            "Accuracy:  0.9013516239661086\n",
            "F1:  0.6767032782517434\n",
            "=============== F2 ===============\n",
            " TODOS \n",
            "Accuracy:  0.8894492636675408\n",
            "F1:  0.6509460887239514\n",
            "=============== F3 ===============\n",
            " TODOS \n",
            "Accuracy:  0.898325600161388\n",
            "F1:  0.6684922030956552\n",
            "=============== F4 ===============\n"
          ],
          "name": "stdout"
        },
        {
          "output_type": "stream",
          "text": [
            "/usr/local/lib/python3.7/dist-packages/sklearn/linear_model/_logistic.py:940: ConvergenceWarning: lbfgs failed to converge (status=1):\n",
            "STOP: TOTAL NO. of ITERATIONS REACHED LIMIT.\n",
            "\n",
            "Increase the number of iterations (max_iter) or scale the data as shown in:\n",
            "    https://scikit-learn.org/stable/modules/preprocessing.html\n",
            "Please also refer to the documentation for alternative solver options:\n",
            "    https://scikit-learn.org/stable/modules/linear_model.html#logistic-regression\n",
            "  extra_warning_msg=_LOGISTIC_SOLVER_CONVERGENCE_MSG)\n"
          ],
          "name": "stderr"
        },
        {
          "output_type": "stream",
          "text": [
            " TODOS \n",
            "Accuracy:  0.8904358353510896\n",
            "F1:  0.6417462050130068\n",
            "=============== F5 ===============\n",
            " TODOS \n",
            "Accuracy:  0.8847861178369653\n",
            "F1:  0.6379230292255741\n"
          ],
          "name": "stdout"
        }
      ]
    },
    {
      "cell_type": "code",
      "metadata": {
        "colab": {
          "base_uri": "https://localhost:8080/"
        },
        "id": "i_FmiZg41EF3",
        "outputId": "35343ea4-c6f2-444a-adb0-077dc20a9944"
      },
      "source": [
        "df = pd.DataFrame(data=export, index=[0])\n",
        "df.to_excel(\"all.xlsx\")\n",
        "\n",
        "print(\"========= \", \"TODOS\", \"===========\")\n",
        "print(\"Mean: \", np.mean(pred))\n",
        "print(\"STD: \", np.std(pred))"
      ],
      "execution_count": 16,
      "outputs": [
        {
          "output_type": "stream",
          "text": [
            "=========  TODOS ===========\n",
            "Mean:  0.6551621608619862\n",
            "STD:  0.015077536665802664\n"
          ],
          "name": "stdout"
        }
      ]
    },
    {
      "cell_type": "markdown",
      "metadata": {
        "id": "yDJYlRfSoaRE"
      },
      "source": [
        "# CLUSTERS"
      ]
    },
    {
      "cell_type": "code",
      "metadata": {
        "id": "m2NZsMnFbv9H"
      },
      "source": [
        "def load_clfs(fold):  \n",
        "  import random\n",
        "  clfs_fold = []\n",
        "  quantidade = random.randint(5, len(fold)-1)\n",
        "  sorteados = 0\n",
        "  indices = []\n",
        "  while sorteados < quantidade:\n",
        "    item = random.randint(0, len(fold)-1)\n",
        "    if not item in indices:\n",
        "      indices.append(item)\n",
        "      sorteados += 1\n",
        "\n",
        "  for i in indices:\n",
        "    # print(i)\n",
        "    # print(fold[i])\n",
        "    clfs_fold.append(random.choices(fold[i].split(\", \"))[0])\n",
        "  return quantidade, clfs_fold\n",
        "\n",
        "F1 = [\n",
        "    \"RF-CV, RF-TFIDF\",\n",
        "    \"SVM-GLOVE, MLP-GLOVE\",\n",
        "    \"NB-CV, NB-TFIDF\",\n",
        "    \"LR-W2V, SVM-W2V, MLP-W2V, MLP-FAST\",\n",
        "    \"NB-GLOVE, LR-GLOVE, RF-GLOVE, EXTRA-GLOVE, KNN-GLOVE\",\n",
        "    \"EXTRA-W2V, KNN-W2V, RF-W2V\",\n",
        "    \"KNN-FAST, EXTRA-FAST, RF-FAST\",\n",
        "    \"CNN-FAST, CNN-W2V, CNN-GLOVE\",\n",
        "    \"EXTRA-CV, EXTRA-TFIDF\",\n",
        "    \"NB-FAST, NB-W2V, KNN-TFIDF\",\n",
        "    \"SVM-TFIDF, MLP-TFIDF, LR-CV, LR-TFIDF, SVM-CV, CNN-CV, CNN-TF, KNN-CV, MLP-CV\",\n",
        "    \"SVM-FAST, LR-FAST\"\n",
        "]\n",
        "\n",
        "F2 = [\n",
        "    \"MLP-GLOVE, LR-GLOVE, SVM-GLOVE\",\n",
        "    \"KNN-TFIDF, NB-W2V, NB-FAST\",\n",
        "    \"LR-W2V, SVM-W2V, MLP-W2V, MLP-FAST\",\n",
        "    \"RF-FAST, KNN-FAST, EXTRA-FAST\",\n",
        "    \"LR-FAST, SVM-FAST\",\n",
        "    \"SVM-CV, LR-CV, SVM-TFIDF, MLP-TFIDF\",\n",
        "    \"NB-CV, NB-TFIDF\",\n",
        "    \"KNN-W2V, EXTRA-W2V, RF-W2V, CNN-FAST, CNN-W2V, CNN-GLOVE, KNN-CV\",\n",
        "    \"EXTRA-GLOVE, RF-GLOVE, KNN-GLOVE, NB-GLOVE\",\n",
        "    \"EXTRA-TFIDF, RF-TFIDF, RF-CV, EXTRA-CV\",\n",
        "    \"MLP-CV, MLP-TFIDF\",\n",
        "    \"CNN-CV, CNN-TF\"\n",
        "]\n",
        "\n",
        "F3 = [\n",
        "    \"EXTRA-W2V, RF-W2V\",\n",
        "    \"RF-GLOVE, EXTRA-GLOVE, KNN-GLOVE\",\n",
        "    \"MLP-W2V, SVM-W2V, LR-W2V\",\n",
        "    \"KNN-W2V, RF-FAST, EXTRA-FAST, KNN-FAST\",\n",
        "    \"MLP-GLOVE, SVM-GLOVE, LR-GLOVE, NB-GLOVE\",\n",
        "    \"CNN-GLOVE, CNN-W2V\",\n",
        "    \"KNN-TFIDF, NB-W2V, NB-FAST\",\n",
        "    \"NB-CV, NB-TFIDF\",\n",
        "    \"LR-TFIDF, LR-CV, MLP-CV, MLP-TFIDF, SVM-CV, SVM-TFIDF\",\n",
        "    \"CNN-TF, CNN-CV, EXTRA-TFIDF, EXTRA-CV, RF-TFIDF, RF-CV, CNN-FAST, KNN-CV\",\n",
        "    \"LR-FAST, SVM-FAST, MLP-FAST\"\n",
        "]\n",
        "\n",
        "F4 = [\n",
        "    \"EXTRA-W2V, RF-W2V, KNN-W2V\",\n",
        "    \"KNN-TFIDF, NB-W2V, NB-FAST\",\n",
        "    \"NB-TFIDF, NB-CV\",\n",
        "    \"MLP-FAST, MLP-W2V\",\n",
        "    \"NB-GLOVE, RF-GLOVE, CNN-GLOVE, EXTRA-GLOVE\",\n",
        "    \"KNN-FAST, EXTRA-FAST, RF-FAST\",\n",
        "    \"SVM-W2V, LR-W2V\",\n",
        "    \"LR-CV, LR-TFIDF\",\n",
        "    \"CNN-GLOVE, CNN-CV, CNN-W2V\",\n",
        "    \"MLP-GLOVE, LR-GLOVE, SVM-GLOVE\",\n",
        "    \"SVM-FAST, LR-FAST\",\n",
        "    \"EXTRA-CV, RF-CV\",\n",
        "    \"SVM-CV, SVM-TFIDF, MLP-CV, MLP-TFIDF\",\n",
        "    \"CNN-TF, CNN-CV, CNN-FAST, RF-TFIDF, EXTRA-TFIDF\"\n",
        "]\n",
        "\n",
        "F5 = [\n",
        "    \"RF-FAST, EXTRA-FAST, KNN-FAST\",\n",
        "    \"EXTRA-W2V, RF-W2V, KNN-W2V\",\n",
        "    \"LR-W2V, SVM-W2V\",\n",
        "    \"MLP-W2V, MLP-FAST\",\n",
        "    \"NB-GLOVE, LR-GLOVE, SVM-GLOVE, MLP-GLOVE, EXTRA-GLOVE, RF-GLOVE, KNN-GLOVE\",\n",
        "    \"KNN-TFIDF, NB-W2V, NB-FAST\",\n",
        "    \"EXTRA-CV, RF-CV\",\n",
        "    \"LR-FAST, SVM-FAST\",\n",
        "    \"CNN-W2V, CNN-FAST\",\n",
        "    \"MLP-CV, MLP-TFIDF, SVM-CV, SVM-TFIDF, LR-CV, LR-TFIDF, CNN-CV\",\n",
        "    \"CNN-GLOVE, KNN-CV, NB-TFIDF, NB-CV\",\n",
        "    \"RF-TFIDF, EXTRA-TFIDF, CNN-TF\"\n",
        "]"
      ],
      "execution_count": 17,
      "outputs": []
    },
    {
      "cell_type": "markdown",
      "metadata": {
        "id": "oHjKYiQBMFl-"
      },
      "source": [
        "# Grupo D"
      ]
    },
    {
      "cell_type": "code",
      "metadata": {
        "id": "Da0MY2AkMHrV"
      },
      "source": [
        "clusters = {\"F1\": F1, \"F2\": F2, \"F3\": F3, \"F4\": F4, \"F5\": F5}\n",
        "results = {}\n",
        "for fold, cluster in clusters.items():\n",
        "  cont = 1\n",
        "  results.update({fold: {\"clfs\": [], \"f1\": 0}})\n",
        "  while cont < 300:\n",
        "    qt, clfs = load_clfs(cluster)\n",
        "    pred = []\n",
        "    # folds = [\"F1\"]\n",
        "    # fold=\"F1\"\n",
        "\n",
        "    val, class_val, test, class_test = load_data(\"td\", fold)\n",
        "    cols = []\n",
        "    # columns \n",
        "    for clf in clfs:\n",
        "      for i in range(0,3):\n",
        "        cols.append(\"{}-{}\".format(clf, i))\n",
        "    \n",
        "    val_vision = val[cols]\n",
        "    test_vision = test[cols]\n",
        "    # Treinamento\n",
        "    lr = LogisticRegression(random_state=42,  max_iter=500)\n",
        "    lr.fit(val_vision, class_val)\n",
        "    y_pred = lr.predict(test_vision)\n",
        "    f1 = f1_score(class_test, y_pred, average=\"macro\")\n",
        "    pred.append(f1)\n",
        "    # print(\"=============== {} ===============\".format(fold))\n",
        "\n",
        "    if f1 > results[fold][\"f1\"]:\n",
        "      results[fold].update({\"clfs\": clfs, \"f1\": f1})\n",
        "    \n",
        "    cont += 1"
      ],
      "execution_count": 18,
      "outputs": []
    },
    {
      "cell_type": "code",
      "metadata": {
        "colab": {
          "base_uri": "https://localhost:8080/"
        },
        "id": "s4HjPTYTEvbm",
        "outputId": "942ff45e-72cb-4191-8221-57b47764a089"
      },
      "source": [
        "results"
      ],
      "execution_count": 19,
      "outputs": [
        {
          "output_type": "execute_result",
          "data": {
            "text/plain": [
              "{'F1': {'clfs': ['RF-CV',\n",
              "   'MLP-GLOVE',\n",
              "   'CNN-W2V',\n",
              "   'LR-FAST',\n",
              "   'MLP-W2V',\n",
              "   'NB-TFIDF',\n",
              "   'KNN-W2V'],\n",
              "  'f1': 0.7348136817279608},\n",
              " 'F2': {'clfs': ['NB-GLOVE',\n",
              "   'MLP-CV',\n",
              "   'MLP-FAST',\n",
              "   'NB-CV',\n",
              "   'MLP-GLOVE',\n",
              "   'CNN-TF',\n",
              "   'SVM-TFIDF'],\n",
              "  'f1': 0.749859235708004},\n",
              " 'F3': {'clfs': ['MLP-FAST',\n",
              "   'CNN-FAST',\n",
              "   'SVM-CV',\n",
              "   'CNN-GLOVE',\n",
              "   'KNN-FAST',\n",
              "   'NB-FAST'],\n",
              "  'f1': 0.7391761222985277},\n",
              " 'F4': {'clfs': ['LR-CV',\n",
              "   'CNN-GLOVE',\n",
              "   'NB-GLOVE',\n",
              "   'MLP-FAST',\n",
              "   'SVM-FAST',\n",
              "   'LR-GLOVE'],\n",
              "  'f1': 0.7552656483083838},\n",
              " 'F5': {'clfs': ['LR-FAST',\n",
              "   'NB-FAST',\n",
              "   'CNN-FAST',\n",
              "   'LR-W2V',\n",
              "   'SVM-GLOVE',\n",
              "   'NB-TFIDF',\n",
              "   'CNN-CV'],\n",
              "  'f1': 0.720166639332382}}"
            ]
          },
          "metadata": {
            "tags": []
          },
          "execution_count": 19
        }
      ]
    },
    {
      "cell_type": "code",
      "metadata": {
        "id": "QW5C51RwGh9W"
      },
      "source": [
        "df = pd.DataFrame(data=results)\n",
        "df.to_excel(\"stacked.xlsx\")"
      ],
      "execution_count": 20,
      "outputs": []
    },
    {
      "cell_type": "code",
      "metadata": {
        "colab": {
          "base_uri": "https://localhost:8080/"
        },
        "id": "-0u_RkYPA-Mq",
        "outputId": "ae57656b-f580-433b-ee1b-203b340365d8"
      },
      "source": [
        "lista = []\n",
        "for fold, result in results.items():\n",
        "  lista.append(result[\"f1\"])\n",
        "print(\"========= \", \"COMBINAÇÃO\", \"===========\")\n",
        "print(\"Mean: \", np.mean(lista))\n",
        "print(\"STD: \", np.std(lista))"
      ],
      "execution_count": 21,
      "outputs": [
        {
          "output_type": "stream",
          "text": [
            "=========  COMBINAÇÃO ===========\n",
            "Mean:  0.7398562654750517\n",
            "STD:  0.012256264651276251\n"
          ],
          "name": "stdout"
        }
      ]
    }
  ]
}