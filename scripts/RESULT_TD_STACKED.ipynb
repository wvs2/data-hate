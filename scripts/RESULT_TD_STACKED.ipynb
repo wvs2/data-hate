{
  "nbformat": 4,
  "nbformat_minor": 0,
  "metadata": {
    "colab": {
      "name": "RESULT-TD-STACKED.ipynb",
      "provenance": [],
      "collapsed_sections": []
    },
    "kernelspec": {
      "name": "python3",
      "display_name": "Python 3"
    },
    "language_info": {
      "name": "python"
    }
  },
  "cells": [
    {
      "cell_type": "code",
      "metadata": {
        "colab": {
          "base_uri": "https://localhost:8080/"
        },
        "id": "hFBQuE1qM15n",
        "outputId": "ada72643-e8cf-452b-8813-576b7d55c3ae"
      },
      "source": [
        "from google.colab import drive\n",
        "drive.mount('/content/drive')"
      ],
      "execution_count": null,
      "outputs": [
        {
          "output_type": "stream",
          "text": [
            "Mounted at /content/drive\n"
          ],
          "name": "stdout"
        }
      ]
    },
    {
      "cell_type": "code",
      "metadata": {
        "id": "plE4kBGvLTaQ"
      },
      "source": [
        "import pandas as pd\n",
        "import numpy as np\n",
        "from sklearn.metrics import accuracy_score, f1_score\n",
        "from sklearn.neural_network import MLPClassifier\n",
        "from sklearn.ensemble import RandomForestClassifier\n",
        "from sklearn.linear_model import LogisticRegression"
      ],
      "execution_count": null,
      "outputs": []
    },
    {
      "cell_type": "code",
      "metadata": {
        "id": "CkCExKpTLce5"
      },
      "source": [
        "path = \"/content/drive/MyDrive/Dataset/Folds\"\n",
        "def load_data(dataset, fold):\n",
        "  uri_val = \"{}/{}/{}/prob_train.csv\".format(path, dataset, fold)\n",
        "  uri_test = \"{}/{}/{}/prob_test.csv\".format(path, dataset, fold)\n",
        "  uri_test_pred = \"{}/{}/{}/pred_test.csv\".format(path, dataset, fold)\n",
        "  df_val   = pd.read_table(uri_val, sep=',')\n",
        "  df_test = pd.read_table(uri_test, sep=',')\n",
        "  df_test_pred = pd.read_table(uri_test_pred, sep=',')\n",
        "  val, class_val = df_val.drop(columns=['Unnamed: 0', 'Unnamed: 0.1', 'class']), df_val['class']\n",
        "  test, class_test = df_test.drop(columns=['Unnamed: 0', 'Unnamed: 0.1', 'class']), df_test_pred[\"class\"]  \n",
        "  return val, class_val, test, class_test\n"
      ],
      "execution_count": null,
      "outputs": []
    },
    {
      "cell_type": "code",
      "metadata": {
        "id": "qPO1SCo2LxDr"
      },
      "source": [
        "machines = [\"SVM\", \"LR\", \"RF\", \"NB\", \"EXTRA\", \"KNN\", \"MLP\", \"CNN\"]\n",
        "features = [\"CV\", \"TFIDF\", \"W2V\", \"GLOVE\", \"FAST\"]\n",
        "labels = [\"0\", \"1\", \"2\"]\n",
        "clfs = {}\n",
        "\n",
        "for machine in machines:\n",
        "  clfs[machine] = []\n",
        "  for feature in features:\n",
        "    if machine == \"CNN\" and feature == \"TFIDF\":\n",
        "      feature = \"TF\"\n",
        "    for label in labels:\n",
        "      clfs[machine].append(\"{}-{}-{}\".format(machine, feature, label))\n",
        "\n",
        "\n",
        "clfs_by_features = {}\n",
        "for feature in features:\n",
        "  clfs_by_features[feature] = []\n",
        "  for machine in machines:\n",
        "    for label in labels:\n",
        "      if machine == \"CNN\" and feature == \"TFIDF\":\n",
        "        clfs_by_features[feature].append(\"CNN-TF-{}\".format(label))\n",
        "      else:\n",
        "        clfs_by_features[feature].append(\"{}-{}-{}\".format(machine, feature, label))"
      ],
      "execution_count": null,
      "outputs": []
    },
    {
      "cell_type": "code",
      "metadata": {
        "colab": {
          "base_uri": "https://localhost:8080/"
        },
        "id": "WsNA8PKMLyOi",
        "outputId": "0c2c4a25-8ddf-4e7d-d90f-9754a3206be4"
      },
      "source": [
        "folds = [\"F1\", \"F2\", \"F3\", \"F4\", \"F5\"]\n",
        "pred = {\n",
        "    \"F1\": {},\n",
        "    \"F2\": {},\n",
        "    \"F3\": {},\n",
        "    \"F4\": {},\n",
        "    \"F5\": {},\n",
        "}\n",
        "export = {}\n",
        "for fold in folds:\n",
        "  val, class_val, test, class_test = load_data(\"td\", fold)  \n",
        "  export.update({fold: {}})\n",
        "  print(\"=============== {} ===============\".format(fold))\n",
        "  for machine, clf in clfs.items():\n",
        "    cols = clfs[machine]\n",
        "    val_vision = val[cols]    \n",
        "    test_vision = test[cols]\n",
        "    \n",
        "    # Instancia de MLP\n",
        "    lr = LogisticRegression(random_state=42,  max_iter=500)\n",
        "\n",
        "    lr.fit(val_vision, class_val)\n",
        "    y_pred = lr.predict(test_vision)\n",
        "    f1 = f1_score(class_test, y_pred, average=\"macro\")\n",
        "    pred[fold].update({machine: f1})\n",
        "    export[fold].update({machine: \"%.3f\" % f1})\n",
        "    print(\"{}: \".format(machine), f1)"
      ],
      "execution_count": null,
      "outputs": [
        {
          "output_type": "stream",
          "text": [
            "=============== F1 ===============\n",
            "SVM:  0.7296244716455611\n",
            "LR:  0.7290244091214896\n",
            "RF:  0.6485832289927996\n",
            "NB:  0.6522998660032365\n",
            "EXTRA:  0.6186032489858709\n",
            "KNN:  0.6534997557628647\n",
            "MLP:  0.7093871316511203\n",
            "CNN:  0.7245991207894513\n",
            "=============== F2 ===============\n",
            "SVM:  0.7262150696023575\n",
            "LR:  0.7115050257709115\n",
            "RF:  0.6170293548345253\n",
            "NB:  0.6537955473185327\n",
            "EXTRA:  0.6010850814662466\n",
            "KNN:  0.6527217906252477\n",
            "MLP:  0.6930807879343851\n",
            "CNN:  0.7349545062178487\n",
            "=============== F3 ===============\n",
            "SVM:  0.7344175999510707\n",
            "LR:  0.7318882053826407\n",
            "RF:  0.6357890909119894\n",
            "NB:  0.6553635316863841\n",
            "EXTRA:  0.6137210875695344\n",
            "KNN:  0.664209499789965\n",
            "MLP:  0.7032122197638152\n",
            "CNN:  0.7303482657404627\n",
            "=============== F4 ===============\n",
            "SVM:  0.7319752742495874\n",
            "LR:  0.726209957433479\n",
            "RF:  0.6358754193922116\n",
            "NB:  0.6532464356547852\n",
            "EXTRA:  0.6048822189573566\n",
            "KNN:  0.6626319861050958\n",
            "MLP:  0.695852501180022\n",
            "CNN:  0.717082880866193\n",
            "=============== F5 ===============\n",
            "SVM:  0.7049535022259864\n",
            "LR:  0.7271843750300165\n",
            "RF:  0.6372961229903985\n",
            "NB:  0.6487401919969256\n",
            "EXTRA:  0.6161702477514134\n",
            "KNN:  0.6561134069904034\n",
            "MLP:  0.68799035579216\n",
            "CNN:  0.708018810762137\n"
          ],
          "name": "stdout"
        }
      ]
    },
    {
      "cell_type": "code",
      "metadata": {
        "id": "n1lUR5wxvZBI"
      },
      "source": [
        "df = pd.DataFrame(data=export)\n",
        "df.to_excel(\"machine.xlsx\")"
      ],
      "execution_count": null,
      "outputs": []
    },
    {
      "cell_type": "code",
      "metadata": {
        "colab": {
          "base_uri": "https://localhost:8080/"
        },
        "id": "gQzJ9XAFxK1L",
        "outputId": "986712d4-0f12-4d11-f74e-c06e68c8855d"
      },
      "source": [
        "scores = {}\n",
        "for machine in machines:\n",
        "  scores.update({machine: []})\n",
        "for fold, items in pred.items():\n",
        "  for clf, score in items.items():\n",
        "    scores[clf].append(score)\n",
        "\n",
        "export = {}\n",
        "for clf, score in scores.items():\n",
        "  print(\"========= \", clf, \"===========\")\n",
        "  print(\"Mean: \", np.mean(score))\n",
        "  print(\"STD: \", np.std(score))\n",
        "  export.update({clf: {\n",
        "      \"Mean\": \"%.3f\" % np.mean(score),\n",
        "      \"STD\": \"%.3f\" % np.std(score)\n",
        "  }})\n"
      ],
      "execution_count": null,
      "outputs": [
        {
          "output_type": "stream",
          "text": [
            "=========  SVM ===========\n",
            "Mean:  0.7254371835349126\n",
            "STD:  0.010593528190570642\n",
            "=========  LR ===========\n",
            "Mean:  0.7251623945477075\n",
            "STD:  0.007097340388220048\n",
            "=========  RF ===========\n",
            "Mean:  0.6349146434243849\n",
            "STD:  0.010139753184135307\n",
            "=========  NB ===========\n",
            "Mean:  0.6526891145319729\n",
            "STD:  0.0022105569916129357\n",
            "=========  EXTRA ===========\n",
            "Mean:  0.6108923769460844\n",
            "STD:  0.006747149254629535\n",
            "=========  KNN ===========\n",
            "Mean:  0.6578352878547153\n",
            "STD:  0.00472331362597924\n",
            "=========  MLP ===========\n",
            "Mean:  0.6979045992643005\n",
            "STD:  0.007560315751345792\n",
            "=========  CNN ===========\n",
            "Mean:  0.7230007168752185\n",
            "STD:  0.009580320901296308\n"
          ],
          "name": "stdout"
        }
      ]
    },
    {
      "cell_type": "code",
      "metadata": {
        "id": "2msD_DGJyY7p"
      },
      "source": [
        "df = pd.DataFrame(data=export)\n",
        "df.to_excel(\"mean-std-machine.xlsx\")"
      ],
      "execution_count": null,
      "outputs": []
    },
    {
      "cell_type": "markdown",
      "metadata": {
        "id": "dEH23q2xL2tL"
      },
      "source": [
        "# Grupo B"
      ]
    },
    {
      "cell_type": "code",
      "metadata": {
        "id": "t34F48boyo51"
      },
      "source": [
        "pred = {\n",
        "    \"F1\": {},\n",
        "    \"F2\": {},\n",
        "    \"F3\": {},\n",
        "    \"F4\": {},\n",
        "    \"F5\": {},\n",
        "}"
      ],
      "execution_count": null,
      "outputs": []
    },
    {
      "cell_type": "code",
      "metadata": {
        "colab": {
          "base_uri": "https://localhost:8080/"
        },
        "id": "xvoA9V0nL0SD",
        "outputId": "e266f4b9-3c8f-43f9-d42b-42fc81b8a37f"
      },
      "source": [
        "folds = [\"F1\", \"F2\", \"F3\", \"F4\", \"F5\"]\n",
        "\n",
        "export = {}\n",
        "for fold in folds:\n",
        "  export.update({fold: {}})\n",
        "  val, class_val, test, class_test = load_data(\"td\", fold)  \n",
        "  print(\"=============== {} ===============\".format(fold))\n",
        "  for feature, clfs in clfs_by_features.items():\n",
        "    # for clf in clfs:\n",
        "    cols = clfs\n",
        "    # # Instancia de MLP\n",
        "    val_vision = val[cols]    \n",
        "    test_vision = test[cols]\n",
        "\n",
        "    lr = LogisticRegression(random_state=42,  max_iter=500)\n",
        "    lr.fit(val_vision, class_val)\n",
        "    y_pred = lr.predict(test_vision)\n",
        "    f1 = f1_score(class_test, y_pred, average=\"macro\")\n",
        "    pred[fold].update({feature: f1})\n",
        "    export[fold].update({feature: \"%.3f\" % f1})\n",
        "    print(feature)\n",
        "    print(\"Accuracy: \",accuracy_score(class_test, y_pred))\n",
        "    print(\"F1: \", f1)\n",
        "    # print(\"\")\n"
      ],
      "execution_count": null,
      "outputs": [
        {
          "output_type": "stream",
          "text": [
            "=============== F1 ===============\n",
            "CV\n",
            "Accuracy:  0.8987290700020173\n",
            "F1:  0.7227303505687983\n",
            "TFIDF\n",
            "Accuracy:  0.9045793826911438\n",
            "F1:  0.6792125591608359\n",
            "W2V\n",
            "Accuracy:  0.8658462779907202\n",
            "F1:  0.5701840944940191\n",
            "GLOVE\n",
            "Accuracy:  0.8739156748033085\n",
            "F1:  0.5770714052548453\n",
            "FAST\n",
            "Accuracy:  0.8668549525922937\n",
            "F1:  0.5612827716893157\n",
            "=============== F2 ===============\n",
            "CV\n",
            "Accuracy:  0.8838006858987291\n",
            "F1:  0.6939828237172615\n",
            "TFIDF\n",
            "Accuracy:  0.8880371192253379\n",
            "F1:  0.6483447526587639\n",
            "W2V\n",
            "Accuracy:  0.868065362114182\n",
            "F1:  0.6034296857468732\n",
            "GLOVE\n",
            "Accuracy:  0.8563647367359289\n",
            "F1:  0.5581734387274961\n",
            "FAST\n",
            "Accuracy:  0.8551543272140407\n",
            "F1:  0.550212515565354\n",
            "=============== F3 ===============\n",
            "CV\n",
            "Accuracy:  0.8965099858785556\n",
            "F1:  0.7088913352095393\n",
            "TFIDF\n",
            "Accuracy:  0.8981238652410732\n",
            "F1:  0.6601897928872614\n",
            "W2V\n",
            "Accuracy:  0.8721000605204761\n",
            "F1:  0.5932003930638248\n",
            "GLOVE\n",
            "Accuracy:  0.8587855557797055\n",
            "F1:  0.5565236914983233\n",
            "FAST\n",
            "Accuracy:  0.8547508573734114\n",
            "F1:  0.5616978347829145\n",
            "=============== F4 ===============\n",
            "CV\n",
            "Accuracy:  0.892453591606134\n",
            "F1:  0.7047339339249817\n",
            "TFIDF\n",
            "Accuracy:  0.898910411622276\n",
            "F1:  0.652519190235537\n",
            "W2V\n",
            "Accuracy:  0.8635996771589992\n",
            "F1:  0.54605992207571\n",
            "GLOVE\n",
            "Accuracy:  0.8678369652945924\n",
            "F1:  0.5563419587565094\n",
            "FAST\n",
            "Accuracy:  0.8621872477804681\n",
            "F1:  0.5589322024115498\n",
            "=============== F5 ===============\n",
            "CV\n",
            "Accuracy:  0.8898305084745762\n",
            "F1:  0.6909501980156354\n",
            "TFIDF\n",
            "Accuracy:  0.8981033091202583\n",
            "F1:  0.6752320035145347\n",
            "W2V\n",
            "Accuracy:  0.8682405165456013\n",
            "F1:  0.5708617138848133\n",
            "GLOVE\n",
            "Accuracy:  0.864406779661017\n",
            "F1:  0.5544648860463345\n",
            "FAST\n",
            "Accuracy:  0.8569410815173527\n",
            "F1:  0.5508349175531556\n"
          ],
          "name": "stdout"
        }
      ]
    },
    {
      "cell_type": "code",
      "metadata": {
        "id": "NmliB2X3zdMJ"
      },
      "source": [
        "df = pd.DataFrame(data=export)\n",
        "df.to_excel(\"feature.xlsx\")"
      ],
      "execution_count": null,
      "outputs": []
    },
    {
      "cell_type": "code",
      "metadata": {
        "colab": {
          "base_uri": "https://localhost:8080/"
        },
        "id": "fsc5UVVDyyHw",
        "outputId": "f880d6c6-4bca-4aa1-f512-2a0f71920a2f"
      },
      "source": [
        "# print(pred)\n",
        "scores = {}\n",
        "for feature in features:\n",
        "  scores.update({feature: []})\n",
        "for fold, items in pred.items():\n",
        "  for feature, score in items.items():\n",
        "    scores[feature].append(score)\n",
        "\n",
        "\n",
        "export = {}\n",
        "for feature, score in scores.items():\n",
        "  print(\"========= \", feature, \"===========\")\n",
        "  print(\"Mean: \", np.mean(score))\n",
        "  print(\"STD: \", np.std(score))\n",
        "  export.update({feature: {\n",
        "      \"Mean\": \"%.3f\" % np.mean(score),\n",
        "      \"STD\": \"%.3f\" % np.std(score)\n",
        "  }})"
      ],
      "execution_count": null,
      "outputs": [
        {
          "output_type": "stream",
          "text": [
            "=========  CV ===========\n",
            "Mean:  0.7042577282872433\n",
            "STD:  0.011363088354217434\n",
            "=========  TFIDF ===========\n",
            "Mean:  0.6630996596913865\n",
            "STD:  0.012206066001959153\n",
            "=========  W2V ===========\n",
            "Mean:  0.5767471618530481\n",
            "STD:  0.020010421958157786\n",
            "=========  GLOVE ===========\n",
            "Mean:  0.5605150760567017\n",
            "STD:  0.008361174077298073\n",
            "=========  FAST ===========\n",
            "Mean:  0.556592048400458\n",
            "STD:  0.00504759854066605\n"
          ],
          "name": "stdout"
        }
      ]
    },
    {
      "cell_type": "code",
      "metadata": {
        "id": "i-E-pcINz8Py"
      },
      "source": [
        "df = pd.DataFrame(data=export)\n",
        "df.to_excel(\"mean-std-feature.xlsx\")"
      ],
      "execution_count": null,
      "outputs": []
    },
    {
      "cell_type": "markdown",
      "metadata": {
        "id": "kJzyFkiwMBLW"
      },
      "source": [
        "# Grupo C"
      ]
    },
    {
      "cell_type": "code",
      "metadata": {
        "id": "DsKj_41N0--q"
      },
      "source": [
        "pred = []\n",
        "export = {}"
      ],
      "execution_count": null,
      "outputs": []
    },
    {
      "cell_type": "code",
      "metadata": {
        "colab": {
          "base_uri": "https://localhost:8080/"
        },
        "id": "29JyIrK6L6vY",
        "outputId": "dba92a02-4755-4d79-9dd9-c54c71d0d019"
      },
      "source": [
        "folds = [\"F1\", \"F2\", \"F3\", \"F4\", \"F5\"]\n",
        "\n",
        "for fold in folds:\n",
        "  # export.update({fold: {}})\n",
        "  val, class_val, test, class_test = load_data(\"td\", fold)  \n",
        "  print(\"=============== {} ===============\".format(fold))\n",
        "  val_vision = val\n",
        "  test_vision = test\n",
        "\n",
        "  lr = LogisticRegression(random_state=42,  max_iter=500)\n",
        "  lr.fit(val_vision, class_val)\n",
        "  y_pred = lr.predict(test_vision)\n",
        "  f1 = f1_score(class_test, y_pred, average=\"macro\")\n",
        "  pred.append(f1)\n",
        "  export[fold] = \"%.3f\" % f1\n",
        "  print(\" TODOS \")\n",
        "  print(\"Accuracy: \",accuracy_score(class_test, y_pred))\n",
        "  print(\"F1: \", f1)\n",
        "  # print(\"\")"
      ],
      "execution_count": null,
      "outputs": [
        {
          "output_type": "stream",
          "text": [
            "=============== F1 ===============\n"
          ],
          "name": "stdout"
        },
        {
          "output_type": "stream",
          "text": [
            "/usr/local/lib/python3.7/dist-packages/sklearn/linear_model/_logistic.py:940: ConvergenceWarning: lbfgs failed to converge (status=1):\n",
            "STOP: TOTAL NO. of ITERATIONS REACHED LIMIT.\n",
            "\n",
            "Increase the number of iterations (max_iter) or scale the data as shown in:\n",
            "    https://scikit-learn.org/stable/modules/preprocessing.html\n",
            "Please also refer to the documentation for alternative solver options:\n",
            "    https://scikit-learn.org/stable/modules/linear_model.html#logistic-regression\n",
            "  extra_warning_msg=_LOGISTIC_SOLVER_CONVERGENCE_MSG)\n"
          ],
          "name": "stderr"
        },
        {
          "output_type": "stream",
          "text": [
            " TODOS \n",
            "Accuracy:  0.9013516239661086\n",
            "F1:  0.6767032782517434\n",
            "=============== F2 ===============\n",
            " TODOS \n",
            "Accuracy:  0.8894492636675408\n",
            "F1:  0.6509460887239514\n",
            "=============== F3 ===============\n",
            " TODOS \n",
            "Accuracy:  0.898325600161388\n",
            "F1:  0.6684922030956552\n",
            "=============== F4 ===============\n"
          ],
          "name": "stdout"
        },
        {
          "output_type": "stream",
          "text": [
            "/usr/local/lib/python3.7/dist-packages/sklearn/linear_model/_logistic.py:940: ConvergenceWarning: lbfgs failed to converge (status=1):\n",
            "STOP: TOTAL NO. of ITERATIONS REACHED LIMIT.\n",
            "\n",
            "Increase the number of iterations (max_iter) or scale the data as shown in:\n",
            "    https://scikit-learn.org/stable/modules/preprocessing.html\n",
            "Please also refer to the documentation for alternative solver options:\n",
            "    https://scikit-learn.org/stable/modules/linear_model.html#logistic-regression\n",
            "  extra_warning_msg=_LOGISTIC_SOLVER_CONVERGENCE_MSG)\n"
          ],
          "name": "stderr"
        },
        {
          "output_type": "stream",
          "text": [
            " TODOS \n",
            "Accuracy:  0.8904358353510896\n",
            "F1:  0.6417462050130068\n",
            "=============== F5 ===============\n",
            " TODOS \n",
            "Accuracy:  0.8847861178369653\n",
            "F1:  0.6379230292255741\n"
          ],
          "name": "stdout"
        }
      ]
    },
    {
      "cell_type": "code",
      "metadata": {
        "id": "i_FmiZg41EF3"
      },
      "source": [
        "df = pd.DataFrame(data=export, index=[0])\n",
        "df.to_excel(\"all.xlsx\")"
      ],
      "execution_count": null,
      "outputs": []
    },
    {
      "cell_type": "markdown",
      "metadata": {
        "id": "yDJYlRfSoaRE"
      },
      "source": [
        "# CLUSTERS"
      ]
    },
    {
      "cell_type": "code",
      "metadata": {
        "id": "m2NZsMnFbv9H"
      },
      "source": [
        "def load_clfs(fold):  \n",
        "  import random\n",
        "  clfs_fold = []\n",
        "  quantidade = random.randint(5, len(fold)-1)\n",
        "  sorteados = 0\n",
        "  indices = []\n",
        "  while sorteados < quantidade:\n",
        "    item = random.randint(0, len(fold)-1)\n",
        "    if not item in indices:\n",
        "      indices.append(item)\n",
        "      sorteados += 1\n",
        "\n",
        "  for i in indices:\n",
        "    # print(i)\n",
        "    # print(fold[i])\n",
        "    clfs_fold.append(random.choices(fold[i].split(\", \"))[0])\n",
        "  return quantidade, clfs_fold\n",
        "\n",
        "F1 = [\n",
        "    \"KNN-TFIDF, KNN-CV\",\n",
        "    \"MLP-FAST, MLP-W2V\",\n",
        "    \"MLP-CV, SVM-CV\",\n",
        "    \"NB-FAST, NB-W2V\",\n",
        "    \"CNN-W2V, CNN-TF, SVM-TFIDF, LR-TFIDF, LR-CV, CNN-FAST, CNN-CV\",\n",
        "    \"SVM-FAST, LR-FAST, LR-W2V, SVM-W2V\",\n",
        "    \"NB-TFIDF, NB-CV, CNN-GLOVE\",\n",
        "    \"KNN-GLOVE, LR-GLOVE, NB-GLOVE, SVM-GLOVE, MLP-GLOVE, RF-GLOVE, EXTRA-GLOVE\",\n",
        "    \"MLP-TFIDF, EXTRA-TFIDF, RF-TFIDF\",\n",
        "    \"EXTRA-CV, RF-CV\",\n",
        "    \"KNN-FAST, EXTRA-FAST, KNN-W2V, LR-W2V, RF-W2V, RF-FAST\"\n",
        "]\n",
        "\n",
        "F2 = [\n",
        "    \"NB-W2V, NB-FAST\",\n",
        "    \"LR-FAST, SVM-FAST\",\n",
        "    \"NB-CV, NB-TFIDF\",\n",
        "    \"CNN-GLOVE, CNN-FAST, CNN-W2V\",\n",
        "    \"MLP-GLOVE, EXTRA-GLOVE, SVM-GLOVE, RF-GLOVE, LR-GLOVE, NB-GLOVE, KNN-GLOVE\",\n",
        "    \"EXTRA-TFIDF, RF-TFIDF\",\n",
        "    \"MLP-W2V, MLP-FAST\",\n",
        "    \"LR-W2V, SVM-W2V\",\n",
        "    \"KNN-FAST, EXTRA-FAST, RF-FAST, RF-W2V, KNN-W2V, EXTRA-W2V, KNN-TFIDF, KNN-CV\",\n",
        "    \"MLP-TFIDF, SVM-CV, LR-CV, MLP-CV, LR-TFIDF, SVM-TFIDF, CNN-TF, CNN-CV\",\n",
        "    \"EXTRA-CV, RF-CV\"\n",
        "]\n",
        "\n",
        "F3 = [\n",
        "    \"NB-W2V, NB-FAST\",\n",
        "    \"LR-FAST, LR-W2V, SVM-FAST, SVM-W2V\",\n",
        "    \"LR-GLOVE, EXTRA-GLOVE, KNN-GLOVE, RF-GLOVE\",\n",
        "    \"MLP-W2V, MLP-FAST\",\n",
        "    \"KNN-FAST, EXTRA-FAST, RF-FAST, EXTRA-W2V, KNN-W2V, RF-W2V\",\n",
        "    \"SVM-TFIDF, SVM-CV, MLP-CV, MLP-TFIDF\",\n",
        "    \"LR-CV, LR-TFIDF, CNN-CV\",\n",
        "    \"CNN-GLOVE, CNN-TF\",\n",
        "    \"KNN-CV, KNN-TFIDF\",\n",
        "    \"CNN-FAST, CNN-W2V, RF-TFIDF, EXTRA-TFIDF\",\n",
        "    \"NB-CV, NB-TFIDF\",\n",
        "    \"SVM-GLOVE, MLP-GLOVE, NB-GLOVE\",\n",
        "    \"EXTRA-CV, RF-CV\"\n",
        "]\n",
        "\n",
        "F4 = [\n",
        "    \"CNN-W2V, RF-TFIDF, CNN-GLOVE, EXTRA-TFIDF\",\n",
        "    \"NB-CV, NB-TFIDF, KNN-CV, KNN-TFIDF\",\n",
        "    \"LR-W2V, SVM-W2V, MLP-W2V\",\n",
        "    \"NB-W2V, NB-FAST\",\n",
        "    \"KNN-FAST, EXTRA-FAST, RF-FAST, KNN-W2V\",\n",
        "    \"EXTRA-W2V, RF-W2V\",\n",
        "    \"CNN-TF, SVM-TFIDF, MLP-TFIDF, SVM-CV, LR-CV, MLP-CV, LR-TFIDF, CNN-CV, CNN-FAST\",\n",
        "    \"LR-FAST, SVM-FAST, MLP-FAST\",\n",
        "    \"NB-GLOVE, MLP-GLOVE, SVM-GLOVE, LR-GLOVE, RF-GLOVE, EXTRA-GLOVE, KNN-GLOVE\",\n",
        "    \"RF-CV, EXTRA-CV\"\n",
        "]\n",
        "\n",
        "F5 = [\n",
        "    \"NB-W2V, NB-FAST\",\n",
        "    \"CNN-FAST, CNN-W2V\",\n",
        "    \"CNN-TF\", \"RF-TFIDF\", \"EXTRA-TFIDF\",\n",
        "    \"SVM-CV, LR-CV, LR-TFIDF, CNN-CV, SVM-TFIDF, MLP-CV, MLP-TFIDF\",\n",
        "    \"EXTRA-FAST, EXTRA-W2V, KNN-FAST\",\n",
        "    \"RF-CV, EXTRA-CV\",\n",
        "    \"RF-W2V, RF-FAST, KNN-W2V\",\n",
        "    \"KNN-CV, KNN-TFIDF, CNN-GLOVE, MLP-FAST, MLP-W2V, SVM-W2V, SVM-FAST, LR-FAST, LR-W2V\",\n",
        "    \"KNN-GLOVE, LR-GLOVE, NB-GLOVE, EXTRA-GLOVE, SVM-GLOVE, MLP-GLOVE, RF-GLOVE\",\n",
        "    \"NB-TFIDF, NB-CV\"\n",
        "]\n"
      ],
      "execution_count": null,
      "outputs": []
    },
    {
      "cell_type": "markdown",
      "metadata": {
        "id": "oHjKYiQBMFl-"
      },
      "source": [
        "# Grupo D"
      ]
    },
    {
      "cell_type": "code",
      "metadata": {
        "id": "Da0MY2AkMHrV"
      },
      "source": [
        "clusters = {\"F1\": F1, \"F2\": F2, \"F3\": F3, \"F4\": F4, \"F5\": F5}\n",
        "results = {}\n",
        "for fold, cluster in clusters.items():\n",
        "  cont = 1\n",
        "  results.update({fold: {\"clfs\": [], \"f1\": 0}})\n",
        "  while cont < 300:\n",
        "    qt, clfs = load_clfs(cluster)\n",
        "    pred = []\n",
        "    # folds = [\"F1\"]\n",
        "    # fold=\"F1\"\n",
        "\n",
        "    val, class_val, test, class_test = load_data(\"td\", fold)\n",
        "    cols = []\n",
        "    # columns \n",
        "    for clf in clfs:\n",
        "      for i in range(0,3):\n",
        "        cols.append(\"{}-{}\".format(clf, i))\n",
        "    \n",
        "    val_vision = val[cols]\n",
        "    test_vision = test[cols]\n",
        "    # Treinamento\n",
        "    lr = LogisticRegression(random_state=42,  max_iter=500)\n",
        "    lr.fit(val_vision, class_val)\n",
        "    y_pred = lr.predict(test_vision)\n",
        "    f1 = f1_score(class_test, y_pred, average=\"macro\")\n",
        "    pred.append(f1)\n",
        "    # print(\"=============== {} ===============\".format(fold))\n",
        "\n",
        "    if f1 > results[fold][\"f1\"]:\n",
        "      results[fold].update({\"clfs\": clfs, \"f1\": f1})\n",
        "    \n",
        "    cont += 1"
      ],
      "execution_count": null,
      "outputs": []
    },
    {
      "cell_type": "code",
      "metadata": {
        "colab": {
          "base_uri": "https://localhost:8080/"
        },
        "id": "s4HjPTYTEvbm",
        "outputId": "dde45398-6dc9-4fe3-93ac-44af782fe015"
      },
      "source": [
        "results"
      ],
      "execution_count": null,
      "outputs": [
        {
          "output_type": "execute_result",
          "data": {
            "text/plain": [
              "{'F1': {'clfs': ['MLP-GLOVE',\n",
              "   'KNN-CV',\n",
              "   'MLP-FAST',\n",
              "   'SVM-CV',\n",
              "   'CNN-FAST',\n",
              "   'NB-W2V',\n",
              "   'LR-W2V'],\n",
              "  'f1': 0.7369723981637569},\n",
              " 'F2': {'clfs': ['CNN-FAST', 'SVM-TFIDF', 'KNN-FAST', 'LR-FAST', 'NB-CV'],\n",
              "  'f1': 0.7356500433142772},\n",
              " 'F3': {'clfs': ['MLP-FAST', 'NB-CV', 'SVM-CV', 'SVM-FAST', 'NB-W2V'],\n",
              "  'f1': 0.7396232752452147},\n",
              " 'F4': {'clfs': ['NB-GLOVE', 'KNN-CV', 'NB-W2V', 'LR-W2V', 'SVM-CV'],\n",
              "  'f1': 0.7383267574750954},\n",
              " 'F5': {'clfs': ['CNN-CV',\n",
              "   'LR-W2V',\n",
              "   'NB-FAST',\n",
              "   'CNN-FAST',\n",
              "   'NB-TFIDF',\n",
              "   'CNN-TF'],\n",
              "  'f1': 0.727017614677011}}"
            ]
          },
          "metadata": {
            "tags": []
          },
          "execution_count": 20
        }
      ]
    },
    {
      "cell_type": "code",
      "metadata": {
        "id": "QW5C51RwGh9W"
      },
      "source": [
        "df = pd.DataFrame(data=results)\n",
        "df.to_excel(\"stacked.xlsx\")"
      ],
      "execution_count": null,
      "outputs": []
    },
    {
      "cell_type": "code",
      "metadata": {
        "colab": {
          "base_uri": "https://localhost:8080/"
        },
        "id": "-0u_RkYPA-Mq",
        "outputId": "75931153-b14c-4e2a-e834-21fec54db9ac"
      },
      "source": [
        "lista = []\n",
        "\n",
        "for fold, r in results.items():\n",
        "  lista.append(r[\"f1\"])\n",
        "print(\"========= \", \"Combinados\", \"===========\")\n",
        "print(\"Mean: \", np.mean(lista))\n",
        "print(\"STD: \", np.std(lista))"
      ],
      "execution_count": null,
      "outputs": [
        {
          "output_type": "stream",
          "text": [
            "=========  Combinados ===========\n",
            "Mean:  0.735518017775071\n",
            "STD:  0.004452677025928748\n"
          ],
          "name": "stdout"
        }
      ]
    }
  ]
}